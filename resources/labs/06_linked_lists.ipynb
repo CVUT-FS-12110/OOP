{
 "cells": [
  {
   "cell_type": "markdown",
   "id": "fed224b3",
   "metadata": {},
   "source": [
    "## Linked list ##"
   ]
  },
  {
   "cell_type": "code",
   "execution_count": 6,
   "id": "e0629f8b",
   "metadata": {},
   "outputs": [],
   "source": [
    "class Node:\n",
    "    def __init__(self, data=None):\n",
    "        self.data = data\n",
    "        self.next = None\n",
    "\n",
    "class LinkedList:\n",
    "    def __init__(self):\n",
    "        self.head = None\n",
    "\n",
    "linked_list = LinkedList()\n",
    "linked_list.head = Node(\"Mon\")\n",
    "node_2 = Node(\"Tue\")\n",
    "node_3 = Node(\"Wed\")\n",
    "\n",
    "# Link first Node to second node\n",
    "linked_list.head.next = node_2\n",
    "\n",
    "# Link second Node to third node\n",
    "node_2.next = node_3"
   ]
  },
  {
   "cell_type": "code",
   "execution_count": 7,
   "id": "bd589a64",
   "metadata": {},
   "outputs": [
    {
     "name": "stdout",
     "output_type": "stream",
     "text": [
      "Mon\n"
     ]
    }
   ],
   "source": [
    "print(linked_list.head.data)"
   ]
  },
  {
   "cell_type": "code",
   "execution_count": 8,
   "id": "746456a2",
   "metadata": {},
   "outputs": [
    {
     "name": "stdout",
     "output_type": "stream",
     "text": [
      "Tue\n"
     ]
    }
   ],
   "source": [
    "print(linked_list.head.next.data)"
   ]
  },
  {
   "cell_type": "code",
   "execution_count": 9,
   "id": "5cc3e3cb",
   "metadata": {},
   "outputs": [
    {
     "name": "stdout",
     "output_type": "stream",
     "text": [
      "Wed\n"
     ]
    }
   ],
   "source": [
    "print(linked_list.head.next.next.data)"
   ]
  },
  {
   "cell_type": "code",
   "execution_count": 10,
   "id": "913bd3d4",
   "metadata": {},
   "outputs": [
    {
     "ename": "AttributeError",
     "evalue": "'NoneType' object has no attribute 'data'",
     "output_type": "error",
     "traceback": [
      "\u001b[1;31m---------------------------------------------------------------------------\u001b[0m",
      "\u001b[1;31mAttributeError\u001b[0m                            Traceback (most recent call last)",
      "\u001b[1;32m~\\AppData\\Local\\Temp\\ipykernel_22792\\4019129279.py\u001b[0m in \u001b[0;36m<module>\u001b[1;34m\u001b[0m\n\u001b[1;32m----> 1\u001b[1;33m \u001b[0mprint\u001b[0m\u001b[1;33m(\u001b[0m\u001b[0mlinked_list\u001b[0m\u001b[1;33m.\u001b[0m\u001b[0mhead\u001b[0m\u001b[1;33m.\u001b[0m\u001b[0mnext\u001b[0m\u001b[1;33m.\u001b[0m\u001b[0mnext\u001b[0m\u001b[1;33m.\u001b[0m\u001b[0mnext\u001b[0m\u001b[1;33m.\u001b[0m\u001b[0mdata\u001b[0m\u001b[1;33m)\u001b[0m\u001b[1;33m\u001b[0m\u001b[1;33m\u001b[0m\u001b[0m\n\u001b[0m",
      "\u001b[1;31mAttributeError\u001b[0m: 'NoneType' object has no attribute 'data'"
     ]
    }
   ],
   "source": [
    "print(linked_list.head.next.next.next.data)"
   ]
  },
  {
   "cell_type": "code",
   "execution_count": 11,
   "id": "4f76a530",
   "metadata": {},
   "outputs": [
    {
     "name": "stdout",
     "output_type": "stream",
     "text": [
      "None\n"
     ]
    }
   ],
   "source": [
    "print(linked_list.head.next.next.next)"
   ]
  },
  {
   "cell_type": "markdown",
   "id": "7276d11b",
   "metadata": {},
   "source": [
    "## print the list using __repr__  ##"
   ]
  },
  {
   "cell_type": "code",
   "execution_count": 12,
   "id": "4d8a0ce1",
   "metadata": {},
   "outputs": [],
   "source": [
    "class LinkedList:\n",
    "    def __init__(self):\n",
    "        self.head = None\n",
    "    \n",
    "    def __repr__(self):\n",
    "        node = self.head\n",
    "        nodes = []\n",
    "        while node is not None:\n",
    "            nodes.append(node.data)\n",
    "            node = node.next\n",
    "        nodes.append(\"None\")\n",
    "        return \" -> \".join(nodes)\n"
   ]
  },
  {
   "cell_type": "code",
   "execution_count": 13,
   "id": "12851fa6",
   "metadata": {},
   "outputs": [
    {
     "name": "stdout",
     "output_type": "stream",
     "text": [
      "Mon -> Tue -> Wed -> None\n"
     ]
    }
   ],
   "source": [
    "linked_list = LinkedList()\n",
    "linked_list.head = Node(\"Mon\")\n",
    "node_2 = Node(\"Tue\")\n",
    "node_3 = Node(\"Wed\")\n",
    "\n",
    "# Link first Node to second node\n",
    "linked_list.head.next = node_2\n",
    "\n",
    "# Link second Node to third node\n",
    "node_2.next = node_3\n",
    "\n",
    "# print the linked list\n",
    "print(linked_list)"
   ]
  },
  {
   "cell_type": "markdown",
   "id": "f28023fe",
   "metadata": {},
   "source": [
    "## Add at the beggining"
   ]
  },
  {
   "cell_type": "code",
   "execution_count": 14,
   "id": "fcc7c728",
   "metadata": {},
   "outputs": [],
   "source": [
    "class LinkedList:\n",
    "    def __init__(self):\n",
    "        self.head = None\n",
    "        \n",
    "    def add_first(self, new_data):\n",
    "        new_node = Node(new_data)\n",
    "        new_node.next = self.head\n",
    "        self.head = new_node\n",
    "    \n",
    "    def __repr__(self):\n",
    "        node = self.head\n",
    "        nodes = []\n",
    "        while node is not None:\n",
    "            nodes.append(node.data)\n",
    "            node = node.next\n",
    "        nodes.append(\"None\")\n",
    "        return \" -> \".join(nodes)        "
   ]
  },
  {
   "cell_type": "code",
   "execution_count": 15,
   "id": "bdee5b90",
   "metadata": {},
   "outputs": [
    {
     "name": "stdout",
     "output_type": "stream",
     "text": [
      "c -> b -> a -> None\n"
     ]
    }
   ],
   "source": [
    "linked_list = LinkedList()\n",
    "linked_list.add_first(\"a\")\n",
    "linked_list.add_first(\"b\")\n",
    "linked_list.add_first(\"c\")\n",
    "print(linked_list)"
   ]
  },
  {
   "cell_type": "markdown",
   "id": "cd5fbe20",
   "metadata": {},
   "source": [
    "## Add at the end"
   ]
  },
  {
   "cell_type": "code",
   "execution_count": 16,
   "id": "90a1d6ff",
   "metadata": {},
   "outputs": [],
   "source": [
    "class LinkedList:\n",
    "    def __init__(self):\n",
    "        self.head = None\n",
    "        \n",
    "    def add_first(self, new_data):\n",
    "        new_node = Node(new_data)\n",
    "        new_node.next = self.head\n",
    "        self.head = new_node\n",
    "        \n",
    "    def add_last(self, new_data):\n",
    "        new_node = Node(new_data)\n",
    "        if self.head is None:\n",
    "            self.head = new_node\n",
    "            return\n",
    "        last_node = self.head\n",
    "        while(last_node.next):\n",
    "            last_node = last_node.next\n",
    "        last_node.next = new_node\n",
    "    \n",
    "    def __repr__(self):\n",
    "        node = self.head\n",
    "        nodes = []\n",
    "        while node is not None:\n",
    "            nodes.append(node.data)\n",
    "            node = node.next\n",
    "        nodes.append(\"None\")\n",
    "        return \" -> \".join(nodes)"
   ]
  },
  {
   "cell_type": "code",
   "execution_count": 17,
   "id": "f1bc260b",
   "metadata": {},
   "outputs": [
    {
     "name": "stdout",
     "output_type": "stream",
     "text": [
      "c -> b -> a -> d -> None\n"
     ]
    }
   ],
   "source": [
    "linked_list = LinkedList()\n",
    "linked_list.add_first(\"a\")\n",
    "linked_list.add_first(\"b\")\n",
    "linked_list.add_first(\"c\")\n",
    "linked_list.add_last(\"d\")\n",
    "print(linked_list)"
   ]
  },
  {
   "cell_type": "markdown",
   "id": "1915e8fd",
   "metadata": {},
   "source": [
    "## remove the first element"
   ]
  },
  {
   "cell_type": "code",
   "execution_count": 18,
   "id": "2bbd679c",
   "metadata": {},
   "outputs": [],
   "source": [
    "class LinkedList:\n",
    "    def __init__(self):\n",
    "        self.head = None\n",
    "        \n",
    "    def add_first(self, new_data):\n",
    "        new_node = Node(new_data)\n",
    "        new_node.next = self.head\n",
    "        self.head = new_node\n",
    "        \n",
    "    def add_last(self, new_data):\n",
    "        new_node = Node(new_data)\n",
    "        if self.head is None:\n",
    "            self.head = new_node\n",
    "            return\n",
    "        last_node = self.head\n",
    "        while(last_node.next):\n",
    "            last_node = last_node.next\n",
    "        last_node.next = new_node\n",
    "    \n",
    "    def remove_first(self):\n",
    "        if self.head.next is None:\n",
    "            print(\"linked list is empty\")\n",
    "        else:            \n",
    "            self.head = self.head.next\n",
    "\n",
    "        \n",
    "    def __repr__(self):\n",
    "        node = self.head\n",
    "        nodes = []\n",
    "        while node is not None:\n",
    "            nodes.append(node.data)\n",
    "            node = node.next\n",
    "        nodes.append(\"None\")\n",
    "        return \" -> \".join(nodes)"
   ]
  },
  {
   "cell_type": "code",
   "execution_count": 19,
   "id": "0016a0b3",
   "metadata": {},
   "outputs": [
    {
     "data": {
      "text/plain": [
       "b -> a -> None"
      ]
     },
     "execution_count": 19,
     "metadata": {},
     "output_type": "execute_result"
    }
   ],
   "source": [
    "linked_list = LinkedList()\n",
    "linked_list.add_first(\"a\")\n",
    "linked_list.add_first(\"b\")\n",
    "linked_list.add_first(\"c\")\n",
    "\n",
    "linked_list.remove_first()\n",
    "linked_list"
   ]
  },
  {
   "cell_type": "code",
   "execution_count": 20,
   "id": "1a03679a",
   "metadata": {},
   "outputs": [
    {
     "data": {
      "text/plain": [
       "a -> None"
      ]
     },
     "execution_count": 20,
     "metadata": {},
     "output_type": "execute_result"
    }
   ],
   "source": [
    "linked_list.remove_first()\n",
    "linked_list"
   ]
  },
  {
   "cell_type": "code",
   "execution_count": 21,
   "id": "137f67d2",
   "metadata": {},
   "outputs": [
    {
     "data": {
      "text/plain": [
       "a -> None"
      ]
     },
     "execution_count": 21,
     "metadata": {},
     "output_type": "execute_result"
    }
   ],
   "source": [
    "linked_list"
   ]
  },
  {
   "cell_type": "code",
   "execution_count": null,
   "id": "10f731d4",
   "metadata": {},
   "outputs": [],
   "source": []
  },
  {
   "cell_type": "markdown",
   "id": "b907f4b2",
   "metadata": {},
   "source": [
    "## remove the last element"
   ]
  },
  {
   "cell_type": "code",
   "execution_count": 22,
   "id": "696fb485",
   "metadata": {},
   "outputs": [],
   "source": [
    "class Node:\n",
    "    def __init__(self, data=None):\n",
    "        self.data = data\n",
    "        self.next = None\n",
    "\n",
    "class LinkedList:\n",
    "    def __init__(self):\n",
    "        self.head = None\n",
    "        \n",
    "    def add_first(self, new_data):\n",
    "        new_node = Node(new_data)\n",
    "        new_node.next = self.head\n",
    "        self.head = new_node\n",
    "        \n",
    "    def add_last(self, new_data):\n",
    "        new_node = Node(new_data)\n",
    "        if self.head is None:\n",
    "            self.head = new_node\n",
    "            return\n",
    "        last_node = self.head\n",
    "        while(last_node.next):\n",
    "            last_node = last_node.next\n",
    "        last_node.next = new_node\n",
    "    \n",
    "    def remove_first(self):\n",
    "        if self.head.next is None:\n",
    "            print(\"linked list is empty\")\n",
    "        else:            \n",
    "            self.head = self.head.next\n",
    "            \n",
    "    def remove_last(self):\n",
    "        last_head = self.head\n",
    "        while(last_head.next.next):\n",
    "            last_head = last_head.next\n",
    "        last_head.next = None\n",
    "        \n",
    "    def __repr__(self):\n",
    "        node = self.head\n",
    "        nodes = []\n",
    "        while node is not None:\n",
    "            nodes.append(node.data)\n",
    "            node = node.next\n",
    "        nodes.append(\"None\")\n",
    "        return \" -> \".join(nodes)"
   ]
  },
  {
   "cell_type": "code",
   "execution_count": 23,
   "id": "4ae1d0da",
   "metadata": {},
   "outputs": [
    {
     "data": {
      "text/plain": [
       "c -> b -> a -> None"
      ]
     },
     "execution_count": 23,
     "metadata": {},
     "output_type": "execute_result"
    }
   ],
   "source": [
    "linked_list = LinkedList()\n",
    "linked_list.add_first(\"a\")\n",
    "linked_list.add_first(\"b\")\n",
    "linked_list.add_first(\"c\")\n",
    "linked_list.add_first(\"d\")\n",
    "\n",
    "linked_list.remove_first()\n",
    "linked_list"
   ]
  },
  {
   "cell_type": "code",
   "execution_count": 24,
   "id": "bb36fa8c",
   "metadata": {},
   "outputs": [
    {
     "data": {
      "text/plain": [
       "c -> b -> None"
      ]
     },
     "execution_count": 24,
     "metadata": {},
     "output_type": "execute_result"
    }
   ],
   "source": [
    "linked_list.remove_last()\n",
    "linked_list"
   ]
  },
  {
   "cell_type": "markdown",
   "id": "0ee08ec3",
   "metadata": {},
   "source": [
    "## queue in python"
   ]
  },
  {
   "cell_type": "code",
   "execution_count": 25,
   "id": "b3d91f29",
   "metadata": {},
   "outputs": [],
   "source": [
    "import queue"
   ]
  },
  {
   "cell_type": "code",
   "execution_count": 26,
   "id": "410cda20",
   "metadata": {},
   "outputs": [],
   "source": [
    "q = queue.Queue()\n",
    "q.put(\"a\")\n",
    "q.put(\"b\")\n",
    "q.put(\"c\")\n"
   ]
  },
  {
   "cell_type": "code",
   "execution_count": 27,
   "id": "9d8533d0",
   "metadata": {},
   "outputs": [
    {
     "data": {
      "text/plain": [
       "'a'"
      ]
     },
     "execution_count": 27,
     "metadata": {},
     "output_type": "execute_result"
    }
   ],
   "source": [
    "q.get()"
   ]
  },
  {
   "cell_type": "code",
   "execution_count": 28,
   "id": "902ce377",
   "metadata": {},
   "outputs": [
    {
     "data": {
      "text/plain": [
       "False"
      ]
     },
     "execution_count": 28,
     "metadata": {},
     "output_type": "execute_result"
    }
   ],
   "source": [
    "q.empty()"
   ]
  },
  {
   "cell_type": "code",
   "execution_count": 29,
   "id": "f1dbbeae",
   "metadata": {},
   "outputs": [
    {
     "data": {
      "text/plain": [
       "'b'"
      ]
     },
     "execution_count": 29,
     "metadata": {},
     "output_type": "execute_result"
    }
   ],
   "source": [
    "q.get()"
   ]
  },
  {
   "cell_type": "code",
   "execution_count": 30,
   "id": "3e410fe0",
   "metadata": {},
   "outputs": [
    {
     "data": {
      "text/plain": [
       "False"
      ]
     },
     "execution_count": 30,
     "metadata": {},
     "output_type": "execute_result"
    }
   ],
   "source": [
    "q.empty()"
   ]
  },
  {
   "cell_type": "code",
   "execution_count": 31,
   "id": "7764c109",
   "metadata": {},
   "outputs": [
    {
     "data": {
      "text/plain": [
       "'c'"
      ]
     },
     "execution_count": 31,
     "metadata": {},
     "output_type": "execute_result"
    }
   ],
   "source": [
    "q.get()"
   ]
  },
  {
   "cell_type": "code",
   "execution_count": 32,
   "id": "fcea8606",
   "metadata": {},
   "outputs": [
    {
     "data": {
      "text/plain": [
       "True"
      ]
     },
     "execution_count": 32,
     "metadata": {},
     "output_type": "execute_result"
    }
   ],
   "source": [
    "q.empty()"
   ]
  },
  {
   "cell_type": "code",
   "execution_count": 33,
   "id": "a4eb2ea1",
   "metadata": {},
   "outputs": [
    {
     "name": "stdout",
     "output_type": "stream",
     "text": [
      "Working on 0\n",
      "Finished 0\n",
      "Working on 1\n",
      "Finished 1\n",
      "Working on 2\n",
      "Finished 2\n",
      "Working on 3\n",
      "Finished 3\n",
      "Working on 4\n",
      "Finished 4\n",
      "Working on 5\n",
      "Finished 5\n",
      "Working on 6\n",
      "Finished 6\n",
      "Working on 7\n",
      "Finished 7\n",
      "Working on 8\n",
      "Finished 8\n",
      "Working on 9\n",
      "Finished 9\n",
      "All work completed\n"
     ]
    }
   ],
   "source": [
    "q = queue.Queue()\n",
    "\n",
    "def worker():\n",
    "    while not q.empty():\n",
    "        item = q.get()\n",
    "        print(f'Working on {item}')\n",
    "        print(f'Finished {item}')\n",
    "\n",
    "# Turn-on the worker thread.\n",
    "\n",
    "\n",
    "# Send thirty task requests to the worker.\n",
    "for item in range(10):\n",
    "    q.put(item)\n",
    "\n",
    "# Block until all tasks are done.\n",
    "worker()\n",
    "print('All work completed')"
   ]
  },
  {
   "cell_type": "code",
   "execution_count": null,
   "id": "6c694f48",
   "metadata": {},
   "outputs": [],
   "source": []
  },
  {
   "cell_type": "code",
   "execution_count": null,
   "id": "b27d1ae3",
   "metadata": {},
   "outputs": [],
   "source": []
  }
 ],
 "metadata": {
  "kernelspec": {
   "display_name": "Python 3 (ipykernel)",
   "language": "python",
   "name": "python3"
  },
  "language_info": {
   "codemirror_mode": {
    "name": "ipython",
    "version": 3
   },
   "file_extension": ".py",
   "mimetype": "text/x-python",
   "name": "python",
   "nbconvert_exporter": "python",
   "pygments_lexer": "ipython3",
   "version": "3.7.6"
  }
 },
 "nbformat": 4,
 "nbformat_minor": 5
}
