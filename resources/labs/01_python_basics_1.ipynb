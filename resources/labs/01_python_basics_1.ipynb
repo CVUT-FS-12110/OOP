{
 "cells": [
  {
   "cell_type": "markdown",
   "id": "e00b6f35-189c-4024-b2a7-df5b033d2710",
   "metadata": {},
   "source": [
    "# 01 - Python basics\n",
    "\n",
    "For our first lecture, we will use IDLE (short for Integrated Development and Learning Environment). IDLE is an integrated development environment for Python. It is bundled with a basic implementation of Python so it is one of the easiest ways to start with Python (but for future lectures, it is strongly recommended to use some advanced IDEs such as Pycharm or VS code)."
   ]
  },
  {
   "cell_type": "markdown",
   "id": "af60478e-d8f7-4e10-bdbe-665510c2e029",
   "metadata": {},
   "source": [
    "### Hello world\n",
    "\n",
    "Let's start with basic example."
   ]
  },
  {
   "cell_type": "code",
   "execution_count": 1,
   "id": "ee7c5555-e382-45f4-b1cd-43bf12bcf66f",
   "metadata": {},
   "outputs": [
    {
     "name": "stdout",
     "output_type": "stream",
     "text": [
      "Hello world!\n"
     ]
    }
   ],
   "source": [
    "print('Hello world!')"
   ]
  },
  {
   "cell_type": "markdown",
   "id": "8b8b01e2-0158-4237-9506-f1405673b234",
   "metadata": {},
   "source": [
    "### Comments\n",
    "'#' code after this sign will not be executed"
   ]
  },
  {
   "cell_type": "code",
   "execution_count": 2,
   "id": "8011705e-e239-4b90-b8bb-4ca725f2c74c",
   "metadata": {},
   "outputs": [],
   "source": [
    "# if you run this nothing happens\n",
    "# print('Hello world!') "
   ]
  },
  {
   "cell_type": "markdown",
   "id": "d41acbaa-0191-452a-a956-333f27986769",
   "metadata": {},
   "source": [
    "### Variables - basic usage\n",
    "To assign value to a variable we can use '=' operator"
   ]
  },
  {
   "cell_type": "code",
   "execution_count": 3,
   "id": "b25163ac-e14a-4353-9918-265042340ff5",
   "metadata": {},
   "outputs": [],
   "source": [
    "a = 1\n",
    "b = 'Hello Python!'"
   ]
  },
  {
   "cell_type": "markdown",
   "id": "7cb552d2-33cf-4f22-98f2-a4630e86f191",
   "metadata": {},
   "source": [
    "Now we can check if the assignment worked. We can pass our variables into already known function ```print()``` and see what will be the output"
   ]
  },
  {
   "cell_type": "code",
   "execution_count": 4,
   "id": "4be989a4-405d-4250-98d7-a02e5d2b025b",
   "metadata": {},
   "outputs": [
    {
     "name": "stdout",
     "output_type": "stream",
     "text": [
      "1\n",
      "Hello Python!\n"
     ]
    }
   ],
   "source": [
    "print(a)\n",
    "print(b)"
   ]
  },
  {
   "cell_type": "markdown",
   "id": "625f17bb-5638-4470-b2f4-0326a0f35c86",
   "metadata": {},
   "source": [
    "As expected ```print()``` has printed out content of variables **a** and **b**"
   ]
  },
  {
   "cell_type": "markdown",
   "id": "fcbf506e-5666-4d98-99ab-99ee2595a8cb",
   "metadata": {},
   "source": [
    "### Variables - dumb calculator\n",
    "In IDLE we are using so called interactive Python (not for long thought). Thanks to that we can use the console for example as a basic interactive calculator. Let's try next example of adding two numbers"
   ]
  },
  {
   "cell_type": "code",
   "execution_count": 5,
   "id": "2584f4ea-3398-4a77-85f6-bea03e63282f",
   "metadata": {},
   "outputs": [
    {
     "data": {
      "text/plain": [
       "4"
      ]
     },
     "execution_count": 5,
     "metadata": {},
     "output_type": "execute_result"
    }
   ],
   "source": [
    "a = 1\n",
    "b = 3\n",
    "a + b"
   ]
  },
  {
   "cell_type": "markdown",
   "id": "18b1b78e-4c0c-4385-ae2b-34f62c6d5515",
   "metadata": {},
   "source": [
    "...other approach would be as follows..."
   ]
  },
  {
   "cell_type": "code",
   "execution_count": 6,
   "id": "8dec168a-bca1-41e2-97e5-db8ca6016b11",
   "metadata": {},
   "outputs": [
    {
     "name": "stdout",
     "output_type": "stream",
     "text": [
      "4\n"
     ]
    }
   ],
   "source": [
    "a = 1\n",
    "b = 3\n",
    "print(a + b)"
   ]
  },
  {
   "cell_type": "markdown",
   "id": "0c6a9f4e-0f28-439e-8b52-ac6c65930609",
   "metadata": {},
   "source": [
    "It may seem that there is litle to no difference but it isn't correct. We will look at this more in future."
   ]
  },
  {
   "cell_type": "markdown",
   "id": "7c0a17f8-b40c-4368-a157-f66b3b7093c7",
   "metadata": {},
   "source": [
    "### Data types\n",
    "For your information, Python is a **dynamically typed** language. It means that a data type is assigned to a value, not to the variable, and that the type checking is done during script runtime. Because of that, you will be able to run a script that contains some errors regarding the types. Nevertheless, your script eventually fails. In comparison, the **statically typed** language would not even allow you to compile and run the script.\n",
    "But the more important thing for us at this time is which data types we have in Python. We can use another function called ```type()``` which tells us what data type is the value of the given variable.\n",
    "\n",
    "#### Numeric\n",
    "Numeric types represent numbers in different ways.\n"
   ]
  },
  {
   "cell_type": "code",
   "execution_count": 7,
   "id": "42719e83-0fcf-4c0d-9973-c580e0faa710",
   "metadata": {},
   "outputs": [
    {
     "name": "stdout",
     "output_type": "stream",
     "text": [
      "<class 'int'>\n",
      "<class 'float'>\n",
      "<class 'complex'>\n"
     ]
    }
   ],
   "source": [
    "i = 1            # int ~ \n",
    "f = 2.3          # float ~ real numbers\n",
    "c = 2.5 + 1.3j   # complex\n",
    "print(type(i))\n",
    "print(type(f))\n",
    "print(type(c))"
   ]
  },
  {
   "cell_type": "markdown",
   "id": "73cb4297-6c0b-4b2c-9a2b-47cd88579ef9",
   "metadata": {},
   "source": [
    "There is a special kind of Integer type called Boolean. This type has only two values: True and False. Because the Boolean type is inherited from Integer, its two values are mapped to 1 and 0 respectively. You can use it either way."
   ]
  },
  {
   "cell_type": "code",
   "execution_count": 8,
   "id": "3c5b7667-be26-40f6-b081-d5199eaa5ef6",
   "metadata": {},
   "outputs": [
    {
     "name": "stdout",
     "output_type": "stream",
     "text": [
      "<class 'bool'>\n"
     ]
    }
   ],
   "source": [
    "# Boolean\n",
    "b1 = True\n",
    "b2 = False\n",
    "print(type(b1))"
   ]
  },
  {
   "cell_type": "markdown",
   "id": "c655051d-4b97-4faa-a189-f6919c724127",
   "metadata": {},
   "source": [
    "Boolean type is especially useful for representing results of the comparison of two values. For example, we can compare if value ```False``` is really equal to value ```0```. We can achive that wit combination of ```print()``` and operator ```==``` (```==``` compares two values and returns ```True``` if they are equal, ```False``` otherwise). Let's try it."
   ]
  },
  {
   "cell_type": "code",
   "execution_count": 9,
   "id": "7ec86a61-dd9a-44fe-92d9-8d4b973f40c6",
   "metadata": {},
   "outputs": [
    {
     "name": "stdout",
     "output_type": "stream",
     "text": [
      "True\n"
     ]
    }
   ],
   "source": [
    "print(False == 0)"
   ]
  },
  {
   "cell_type": "markdown",
   "id": "83f197b5-be5a-4094-8f1e-069fac41511e",
   "metadata": {},
   "source": [
    "#### Text\n",
    "For representation of text there is type String. To assign string to a variable we need to wrap the value in pair of single or double quotes (```'text'``` or ```\"text\"```). "
   ]
  },
  {
   "cell_type": "code",
   "execution_count": 10,
   "id": "1e000d67-6ae1-4f0e-8056-b8899efd9adb",
   "metadata": {},
   "outputs": [
    {
     "name": "stdout",
     "output_type": "stream",
     "text": [
      "<class 'str'>\n",
      "<class 'str'>\n"
     ]
    }
   ],
   "source": [
    "s1 = 'hello'\n",
    "s2 = \"hello\"\n",
    "print(type(s1))\n",
    "print(type(s2))"
   ]
  },
  {
   "cell_type": "markdown",
   "id": "08773006-ab61-457d-a476-e2f232903851",
   "metadata": {},
   "source": [
    "Let's make it more complex-ish and combine everything we learned so far. We can check if both strings with ```hello``` are the same and if their types are really the same as we expect."
   ]
  },
  {
   "cell_type": "code",
   "execution_count": 11,
   "id": "5322b8cb-6c8a-4669-80b8-372cf43a7cb3",
   "metadata": {},
   "outputs": [
    {
     "name": "stdout",
     "output_type": "stream",
     "text": [
      "True\n",
      "True\n"
     ]
    }
   ],
   "source": [
    "print(s1 == s2)\n",
    "print(type(s1) == type(s2))"
   ]
  },
  {
   "cell_type": "markdown",
   "id": "28d0ed99-3650-4c52-9804-5e9ef31495aa",
   "metadata": {},
   "source": [
    "Note that ```1``` and ```'1'``` are not equal. First one is nomber and second is string."
   ]
  },
  {
   "cell_type": "code",
   "execution_count": 12,
   "id": "189b2792-ae66-4155-9369-a286ed78113a",
   "metadata": {},
   "outputs": [
    {
     "data": {
      "text/plain": [
       "False"
      ]
     },
     "execution_count": 12,
     "metadata": {},
     "output_type": "execute_result"
    }
   ],
   "source": [
    "1 == '1'"
   ]
  },
  {
   "cell_type": "markdown",
   "id": "76eed58c-bdfe-4231-a37b-d6dbdad1c507",
   "metadata": {},
   "source": [
    "##### Formated string\n",
    "\n",
    "This is additional feature for the strings that allows us to insert values of variables inside them. You can use it by typing ```f``` at the beggining of the string (before the leading quotes) and then put your variables into ```{}``` whenever you want to have them in the text. See example."
   ]
  },
  {
   "cell_type": "code",
   "execution_count": 13,
   "id": "21cab3fa-8452-4c7c-a0cd-596b5758719e",
   "metadata": {},
   "outputs": [
    {
     "name": "stdout",
     "output_type": "stream",
     "text": [
      "This is text where i want to have multiplication of two numbers: 2 * 3 = 6\n"
     ]
    }
   ],
   "source": [
    "x = 2\n",
    "y = 3\n",
    "text = f'This is text where i want to have multiplication of two numbers: {x} * {y} = {x*y}'\n",
    "print(text)"
   ]
  },
  {
   "cell_type": "markdown",
   "id": "d7d914b7-3cb4-4fb4-9a2b-b4c560eeaa4f",
   "metadata": {},
   "source": [
    "### Operators - arithmetic, assigment, comparison and logical\n",
    "\n",
    "It may look complicated but it is mostly pretty simple. Arithmetic operators are used for basic arithmetic operations such as adding, substracting, multiplaying and dividing of numbers."
   ]
  },
  {
   "cell_type": "code",
   "execution_count": 14,
   "id": "a5ba7724-4ac4-45c4-9065-61f54e586911",
   "metadata": {},
   "outputs": [
    {
     "name": "stdout",
     "output_type": "stream",
     "text": [
      "6\n",
      "2\n",
      "8\n",
      "2.0\n",
      "Exponentiation\n",
      "16\n",
      "Special divisions\n",
      "2\n",
      "1\n"
     ]
    }
   ],
   "source": [
    "# Basic arithmetics\n",
    "x = 4\n",
    "y = 2\n",
    "print(x + y)\n",
    "print(x - y)\n",
    "print(x * y)\n",
    "print(x / y)\n",
    "\n",
    "# Exponentiation\n",
    "print('Exponentiation')\n",
    "print(x**y) # x^y\n",
    "\n",
    "# Modulos and floor division\n",
    "z = 5\n",
    "w = 3\n",
    "print('Special divisions')\n",
    "print(z % w)  # modulos\n",
    "print(z // w) # floor"
   ]
  },
  {
   "cell_type": "markdown",
   "id": "1ad28881-91ec-458b-849d-ecd8a3ab935b",
   "metadata": {},
   "source": [
    "##### Assignment operators\n",
    "For the assignment operators we already know ```=```. It is used to assign values to variables. "
   ]
  },
  {
   "cell_type": "code",
   "execution_count": 15,
   "id": "29ee601d-9e6a-4ae7-899a-ed6f2c0f7127",
   "metadata": {},
   "outputs": [
    {
     "name": "stdout",
     "output_type": "stream",
     "text": [
      "1\n"
     ]
    }
   ],
   "source": [
    "i = 1\n",
    "print(i)"
   ]
  },
  {
   "cell_type": "markdown",
   "id": "78f6c443-9a09-4c53-b375-0682ca52bbe1",
   "metadata": {},
   "source": [
    "In addition there are several \"upgraded\" assignment operators. They are made by accompanying another operator to the ```=```. For example ```+=``` or ```**=``` and so on. In case we use one of these special operators, then the (additional) operation is applied to left and right operator and the result is assigned to the left operand. See examples."
   ]
  },
  {
   "cell_type": "code",
   "execution_count": 16,
   "id": "b5e8cce4-0b50-4891-8457-ba28d741742f",
   "metadata": {},
   "outputs": [
    {
     "name": "stdout",
     "output_type": "stream",
     "text": [
      "6\n",
      "36\n"
     ]
    }
   ],
   "source": [
    "x = 4\n",
    "y = 2\n",
    "x += y\n",
    "print(x)\n",
    "\n",
    "x **= y\n",
    "print(x)"
   ]
  },
  {
   "cell_type": "markdown",
   "id": "834d9c3b-6062-4c3d-af49-3338da37b7be",
   "metadata": {},
   "source": [
    "##### Comparison operators\n",
    "Comparison operators as their name suggest are mostly used for comparison of values. We have already encountered ```==``` operator which chekcs if its operands are equal. Comparison operators in general returns ```True``` as a result if comparared operands fulfill predicament given by operator, otherwise the result is ```False```."
   ]
  },
  {
   "cell_type": "code",
   "execution_count": 17,
   "id": "e5446c48-9291-4e02-94a4-366dc2c7b62e",
   "metadata": {},
   "outputs": [
    {
     "name": "stdout",
     "output_type": "stream",
     "text": [
      "True\n"
     ]
    }
   ],
   "source": [
    "# Basic example - True\n",
    "print(3 == 3)"
   ]
  },
  {
   "cell_type": "code",
   "execution_count": 18,
   "id": "a8ff4ddb-f868-469a-beac-4059aa153f7f",
   "metadata": {},
   "outputs": [
    {
     "name": "stdout",
     "output_type": "stream",
     "text": [
      "False\n"
     ]
    }
   ],
   "source": [
    "# Basic example - False\n",
    "print(3 == 4)"
   ]
  },
  {
   "cell_type": "markdown",
   "id": "4458e0c9-c353-48de-a76a-414bcb19ac7d",
   "metadata": {},
   "source": [
    "We have six basic comparison operators. They work exactly the same way as they do in math :-)\n",
    "* ```==``` equal\n",
    "* ```!=``` not equal\n",
    "* ```>``` greater than\n",
    "* ```<``` less than\n",
    "* ```>=``` greater than or equal\n",
    "* ```<=``` less than or equal"
   ]
  },
  {
   "cell_type": "markdown",
   "id": "42366a7e-5e3e-4cd0-afa8-ec95a721eeb3",
   "metadata": {},
   "source": [
    "##### Logical operators\n",
    "\n",
    "We have 3 logical operators: ```and```, ```or``` and ```not```. These are used to combine conditions like those from te previous section."
   ]
  },
  {
   "cell_type": "code",
   "execution_count": 19,
   "id": "a3880ea2-ec19-4a5e-bbc9-517479454af0",
   "metadata": {},
   "outputs": [
    {
     "data": {
      "text/plain": [
       "True"
      ]
     },
     "execution_count": 19,
     "metadata": {},
     "output_type": "execute_result"
    }
   ],
   "source": [
    "(3 < 5) and (True != False)"
   ]
  },
  {
   "cell_type": "code",
   "execution_count": 20,
   "id": "b2dd0f35-9e99-4109-bad6-2df2a72458f4",
   "metadata": {},
   "outputs": [
    {
     "data": {
      "text/plain": [
       "True"
      ]
     },
     "execution_count": 20,
     "metadata": {},
     "output_type": "execute_result"
    }
   ],
   "source": [
    "(True == (not False))"
   ]
  },
  {
   "cell_type": "markdown",
   "id": "47980c5b-e44e-4468-a577-cc6e0fab251c",
   "metadata": {},
   "source": [
    "We will make better usage of this in following sections"
   ]
  },
  {
   "cell_type": "markdown",
   "id": "127c8921-9473-4c1f-8da8-464c0107c058",
   "metadata": {},
   "source": [
    "### Statement if-else\n",
    "\n",
    "Finally, we get to something more interesting. If we combine all that we learned so far we can save values to variables, do some basic math on them, compare the results, and print out what we get. It is nice but it would not be a really good program. To be able to do more advanced stuff we need to have tools to control the flow of the program. That is the reason to learn about **if-else statement**. It allows our program to fork into different ways according to some conditions.\n",
    "\n",
    "Let's make an example. "
   ]
  },
  {
   "cell_type": "code",
   "execution_count": 21,
   "id": "53057ed2-ca82-41be-b1b4-2c2195f67d84",
   "metadata": {},
   "outputs": [
    {
     "name": "stdout",
     "output_type": "stream",
     "text": [
      "I will go outside\n"
     ]
    }
   ],
   "source": [
    "# If-else statement - positive result\n",
    "\n",
    "wheather_is_sunny = True # assignment, we are setting the value\n",
    "\n",
    "if wheather_is_sunny == True: # if and comparison, we are asking IF the condition was fulfilled\n",
    "    print('I will go outside') # because the outcome is be positive program continues to the first branch\n",
    "else:\n",
    "    print('I will stay inside') # if the outcome was negative the program would have continued in the second branch"
   ]
  },
  {
   "cell_type": "code",
   "execution_count": 22,
   "id": "2eeaf95b-c7ef-425e-b4fb-35d89005f51b",
   "metadata": {},
   "outputs": [
    {
     "name": "stdout",
     "output_type": "stream",
     "text": [
      "I will stay inside\n"
     ]
    }
   ],
   "source": [
    "# If-else statement - negative result\n",
    "\n",
    "wheather_is_sunny = False\n",
    "\n",
    "if wheather_is_sunny == True:\n",
    "    print('I will go outside')\n",
    "else:\n",
    "    print('I will stay inside')"
   ]
  },
  {
   "cell_type": "markdown",
   "id": "29aebddf-41c0-460b-a3cf-e81948cf0520",
   "metadata": {},
   "source": [
    "In case we would want more than two branches we can use the keyword ```elif```. Which has to be put between if and else branches. See example."
   ]
  },
  {
   "cell_type": "code",
   "execution_count": 23,
   "id": "b7c73b64-ba5a-4a3a-b18c-a394c01df4d5",
   "metadata": {},
   "outputs": [
    {
     "name": "stdout",
     "output_type": "stream",
     "text": [
      "Positive\n"
     ]
    }
   ],
   "source": [
    "num = 1\n",
    "\n",
    "if num == 0:\n",
    "    print('Zero')\n",
    "elif num < 0:\n",
    "    print('Negative')\n",
    "else:\n",
    "    print('Positive')"
   ]
  },
  {
   "cell_type": "markdown",
   "id": "a2666a4f-d7dd-475d-9dc7-8ff9a6347929",
   "metadata": {},
   "source": [
    "Note that ```else``` branch is for the rest of the cases which don't satisfy any of the conditions above.\n",
    "\n",
    "With the usage of logical operators, we can combine many conditions in one if statement."
   ]
  },
  {
   "cell_type": "code",
   "execution_count": 24,
   "id": "083657d5-2d6c-4af1-b258-a35404a3c784",
   "metadata": {},
   "outputs": [
    {
     "name": "stdout",
     "output_type": "stream",
     "text": [
      "I will go outside\n"
     ]
    }
   ],
   "source": [
    "# If-else statement - negative result\n",
    "\n",
    "my_mood = 1\n",
    "wheather_is_sunny = True\n",
    "\n",
    "if wheather_is_sunny == True and my_mood > 0:\n",
    "    print('I will go outside')\n",
    "elif wheather_is_sunny != True or my_mood < 0:\n",
    "    print('I will stay inside')\n",
    "else:\n",
    "    print('I don\\'t know')"
   ]
  },
  {
   "cell_type": "markdown",
   "id": "b09ae413-a776-4782-a63e-c2de75fcdfd2",
   "metadata": {},
   "source": [
    "### Loops - for and while\n",
    "\n",
    "Loops are another tool to control the flow of our program. We have ```for``` and ```while```. They allow us to execute a part of our code more than once without actually writing it there more than once. So how does it work? We can start with a while loop. It executes its code in cycles as long as its condition is ```True``` (remember **if-else** statement). The condition is checked every time the program gets to the beginning of the cycle. See the example"
   ]
  },
  {
   "cell_type": "code",
   "execution_count": 25,
   "id": "fe7f71c0-f6a8-4805-933a-dd075ede5460",
   "metadata": {},
   "outputs": [
    {
     "name": "stdout",
     "output_type": "stream",
     "text": [
      "Go by bus. Only 3 coins left\n",
      "Go by bus. Only 2 coins left\n",
      "Go by bus. Only 1 coins left\n",
      "No coins remaining\n"
     ]
    }
   ],
   "source": [
    "coins = 3\n",
    "\n",
    "while coins > 0:\n",
    "    print(f'Go by bus. Only {coins} coins left')\n",
    "    coins -= 1\n",
    "\n",
    "print('No coins remaining')"
   ]
  },
  {
   "cell_type": "markdown",
   "id": "9aa323b5-4d0b-490b-85a0-906e11260830",
   "metadata": {},
   "source": [
    "The for loop works a bit differently. We can let it run over some iterations. For example over a list of values. We may use two new functions range which makes a series of numbers between given limits and len which tells us the length of a list. If we combine it we can get a series of numbers between 0 and MAX length of a list. That series actually includes all numbers which could be indexed in the current list. Thus we can approach every single item by its index (if you do not know how, see the List section)"
   ]
  },
  {
   "cell_type": "code",
   "execution_count": 26,
   "id": "2743b63c-210e-4d00-a4db-134cdb5de302",
   "metadata": {},
   "outputs": [
    {
     "name": "stdout",
     "output_type": "stream",
     "text": [
      "There is a Box in the storage\n",
      "There is a Car in the storage\n",
      "There is a Dog in the storage\n",
      "There is a Cat in the storage\n"
     ]
    }
   ],
   "source": [
    "storage = ['Box','Car','Dog','Cat']\n",
    "\n",
    "for i in range(0, len(storage)):\n",
    "    print(f'There is a {storage[i]} in the storage')"
   ]
  },
  {
   "cell_type": "markdown",
   "id": "371da338-e5af-4b37-b860-76de8489ded0",
   "metadata": {},
   "source": [
    "It seems it is working, but it was said that Python is a nice language to code with and this was not the best way to do it. Let's try a more Pythonic way."
   ]
  },
  {
   "cell_type": "code",
   "execution_count": 27,
   "id": "711d0e59-1e91-4aaf-b815-a7e1a32da544",
   "metadata": {},
   "outputs": [
    {
     "name": "stdout",
     "output_type": "stream",
     "text": [
      "There is a Box in the storage\n",
      "There is a Car in the storage\n",
      "There is a Dog in the storage\n",
      "There is a Cat in the storage\n"
     ]
    }
   ],
   "source": [
    "storage = ['Box','Car','Dog','Cat']\n",
    "\n",
    "for item in storage:\n",
    "    print(f'There is a {item} in the storage')"
   ]
  },
  {
   "cell_type": "markdown",
   "id": "5142abaa-11f6-43df-bb31-a47ed303e4fd",
   "metadata": {},
   "source": [
    "Much better right? :-)\n",
    "\n",
    "Of course, you could argue that now we don't have an index which could be useful if we wanted to know which item we are printing. For that, we can use ```enumerate``` which makes that for us. We just need to add a second variable to the for loop to unpack our indexes."
   ]
  },
  {
   "cell_type": "code",
   "execution_count": 28,
   "id": "ab02de00-94f0-4fdd-bbcc-4231115a8679",
   "metadata": {},
   "outputs": [
    {
     "name": "stdout",
     "output_type": "stream",
     "text": [
      "There is a Box in the storage -> 1/4\n",
      "There is a Car in the storage -> 2/4\n",
      "There is a Dog in the storage -> 3/4\n",
      "There is a Cat in the storage -> 4/4\n"
     ]
    }
   ],
   "source": [
    "storage = ['Box','Car','Dog','Cat']\n",
    "\n",
    "for index, item in enumerate(storage):\n",
    "    print(f'There is a {item} in the storage -> {index+1}/{len(storage)}') # the reason why we add +1 to index is that basic indexing goes from 0"
   ]
  }
 ],
 "metadata": {
  "kernelspec": {
   "display_name": "Python 3 (ipykernel)",
   "language": "python",
   "name": "python3"
  },
  "language_info": {
   "codemirror_mode": {
    "name": "ipython",
    "version": 3
   },
   "file_extension": ".py",
   "mimetype": "text/x-python",
   "name": "python",
   "nbconvert_exporter": "python",
   "pygments_lexer": "ipython3",
   "version": "3.10.5"
  }
 },
 "nbformat": 4,
 "nbformat_minor": 5
}
