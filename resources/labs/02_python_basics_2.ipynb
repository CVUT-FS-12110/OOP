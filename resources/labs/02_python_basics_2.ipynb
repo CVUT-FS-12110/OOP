{
 "cells": [
  {
   "cell_type": "markdown",
   "id": "71c5446d-f052-4395-8b21-14cd5670e5e1",
   "metadata": {},
   "source": [
    "# 02 - Python basics\n",
    "\n",
    "During the second lecture we will get to know about advanced data types (such as list and dictionary), casting (the way to convert variable to different type) and functions (bread and butter of every program)"
   ]
  },
  {
   "cell_type": "markdown",
   "id": "7c0a17f8-b40c-4368-a157-f66b3b7093c7",
   "metadata": {},
   "source": [
    "## Advanced data types\n"
   ]
  },
  {
   "cell_type": "markdown",
   "id": "cb6957d0-4a2e-4659-9911-6664f2ae9807",
   "metadata": {},
   "source": [
    "### List and Tuple\n",
    "\n",
    "These two types are useful for storing of multiple elements under one variable. Main difference between list and tuple is that tuple is immutable. It means that after a tuple is created, elements can't be added, changed or removed. On the other hand list can be changed anytime. For creation of list we use ```[]``` brackets with each element separated by `,` thus ```[elem1, elem2, ...]```. For the tuple we switch from ```[]``` to ```()``` and rest is the same thus```(elem1, elem2, ...)```. See examples\n",
    "#### List"
   ]
  },
  {
   "cell_type": "code",
   "execution_count": 63,
   "id": "5456b170-efcc-463a-a1a5-5059e9e55813",
   "metadata": {},
   "outputs": [
    {
     "name": "stdout",
     "output_type": "stream",
     "text": [
      "[1, 2.3, 'Hello']\n",
      "Hello\n",
      "[1, 2.3, 'Hello world!']\n",
      "[1, 2.3, 'Hello world!', (0.1+0.2j)]\n",
      "[1, 2.3, 'Hello world!']\n",
      "[1, 2.3, 'inserted element', 'Hello world!']\n",
      "[1, 2.3, 'Hello world!']\n"
     ]
    }
   ],
   "source": [
    "lst = [1, 2.3, 'Hello']\n",
    "print(lst) # list can be printed\n",
    "\n",
    "# to read a value we can use [] operator with index of the element, indexes are counted from 0\n",
    "print(lst[2])\n",
    "\n",
    "# similarly we can change the value\n",
    "lst[2] = 'Hello world!'\n",
    "print(lst)\n",
    "\n",
    "# we can add element to end of list by using method append (more on methods later on)\n",
    "lst.append(0.1 + 0.2j)\n",
    "print(lst)\n",
    "\n",
    "# we can remove element from end of list by using method pop\n",
    "lst.pop()\n",
    "print(lst)\n",
    "\n",
    "# we can insert on specific index\n",
    "lst.insert(2, 'inserted element')\n",
    "print(lst)\n",
    "\n",
    "# and we can delete from specific index\n",
    "del lst[2]\n",
    "print(lst)"
   ]
  },
  {
   "cell_type": "markdown",
   "id": "8767e407-fe74-4035-8c22-031474710687",
   "metadata": {},
   "source": [
    "#### Tuple ~ read only list"
   ]
  },
  {
   "cell_type": "code",
   "execution_count": 65,
   "id": "e7a44ca3-4cbc-4096-a7af-dda1d4255fd0",
   "metadata": {},
   "outputs": [
    {
     "name": "stdout",
     "output_type": "stream",
     "text": [
      "(1, 2.3, 'Hello')\n",
      "Hello\n"
     ]
    }
   ],
   "source": [
    "tpl = (1, 2.3, 'Hello')\n",
    "print(tpl) # tuples can also be printed\n",
    "\n",
    "# and we can read specific values the same way as for the lists\n",
    "print(tpl[2])\n"
   ]
  },
  {
   "cell_type": "code",
   "execution_count": 66,
   "id": "17a8191b-2c38-4a67-b2ab-5ed488127b4c",
   "metadata": {},
   "outputs": [
    {
     "ename": "TypeError",
     "evalue": "'tuple' object does not support item assignment",
     "output_type": "error",
     "traceback": [
      "\u001b[1;31m---------------------------------------------------------------------------\u001b[0m",
      "\u001b[1;31mTypeError\u001b[0m                                 Traceback (most recent call last)",
      "Input \u001b[1;32mIn [66]\u001b[0m, in \u001b[0;36m<module>\u001b[1;34m\u001b[0m\n\u001b[0;32m      1\u001b[0m \u001b[38;5;66;03m# but we cant modify them\u001b[39;00m\n\u001b[1;32m----> 2\u001b[0m tpl[\u001b[38;5;241m2\u001b[39m] \u001b[38;5;241m=\u001b[39m \u001b[38;5;124m'\u001b[39m\u001b[38;5;124mHello world!\u001b[39m\u001b[38;5;124m'\u001b[39m\n\u001b[0;32m      3\u001b[0m \u001b[38;5;28mprint\u001b[39m(tpl)\n",
      "\u001b[1;31mTypeError\u001b[0m: 'tuple' object does not support item assignment"
     ]
    }
   ],
   "source": [
    "# but we cant modify them\n",
    "tpl[2] = 'Hello world!'\n",
    "print(tpl)"
   ]
  },
  {
   "cell_type": "code",
   "execution_count": 67,
   "id": "b91a2672-942f-4a3a-bdae-2d908051ebc2",
   "metadata": {},
   "outputs": [
    {
     "ename": "TypeError",
     "evalue": "'tuple' object doesn't support item deletion",
     "output_type": "error",
     "traceback": [
      "\u001b[1;31m---------------------------------------------------------------------------\u001b[0m",
      "\u001b[1;31mTypeError\u001b[0m                                 Traceback (most recent call last)",
      "Input \u001b[1;32mIn [67]\u001b[0m, in \u001b[0;36m<module>\u001b[1;34m\u001b[0m\n\u001b[0;32m      1\u001b[0m \u001b[38;5;66;03m# nor modify the list\u001b[39;00m\n\u001b[1;32m----> 2\u001b[0m \u001b[38;5;28;01mdel\u001b[39;00m tpl[\u001b[38;5;241m2\u001b[39m]\n\u001b[0;32m      3\u001b[0m \u001b[38;5;28mprint\u001b[39m(tpl)\n",
      "\u001b[1;31mTypeError\u001b[0m: 'tuple' object doesn't support item deletion"
     ]
    }
   ],
   "source": [
    "# nor modify the tuple\n",
    "del tpl[2]\n",
    "print(tpl)"
   ]
  },
  {
   "cell_type": "markdown",
   "id": "c213ad26-77bd-4473-82ed-a5389017fccb",
   "metadata": {},
   "source": [
    "### Dictionary (map)\n",
    "\n",
    "Dictionary is an unordered container for storing multiple values. But it is different from the list and tuple. It uses pairs of key and value. Every key is unique because it is used to find its associated value (just like in normal dictionary). It is also called a mapping type because it maps keys to the values for easy searching. From syntatic point of view dictionary is initialized by ```{}``` with each pair separated by ```,```. Every pair has structure of ```key : value```. All together ```{key1 : value1, key2 : value2, ...}```"
   ]
  },
  {
   "cell_type": "code",
   "execution_count": 1,
   "id": "7e146f02-b6b4-4937-a3d4-ea1c99db00c0",
   "metadata": {},
   "outputs": [
    {
     "name": "stdout",
     "output_type": "stream",
     "text": [
      "{0: '1000', 'a': True, 2: 'Hello'}\n",
      "True\n",
      "{0: '1000', 'a': True, 2: 'Hello', 3: 'world'}\n",
      "{0: '1000', 'a': True, 2: 'Hello', 3: False}\n",
      "{0: '1000', 'a': True, 2: 'Hello'}\n",
      "dict_keys([0, 'a', 2])\n",
      "dict_values(['1000', True, 'Hello'])\n"
     ]
    }
   ],
   "source": [
    "dic = {\n",
    "    0 : '1000',\n",
    "    'a' : True,\n",
    "    2 : 'Hello',\n",
    "}\n",
    "\n",
    "# we can print dict\n",
    "print(dic)\n",
    "\n",
    "# we can access specific values with operator [] and the value's key\n",
    "print(dic['a'])\n",
    "\n",
    "# we can add a key-value pair\n",
    "dic[3] = 'world'\n",
    "print(dic)\n",
    "\n",
    "# we can change specific value \n",
    "dic[3] = False\n",
    "print(dic)\n",
    "\n",
    "# we can remove specific key-value pair\n",
    "del dic[3]\n",
    "print(dic)\n",
    "\n",
    "# we can get list of keys\n",
    "print(dic.keys())\n",
    "\n",
    "# and also list of values\n",
    "print(dic.values())"
   ]
  },
  {
   "cell_type": "markdown",
   "id": "2e0f7aa8-3afb-4fc7-8819-22616da5a642",
   "metadata": {},
   "source": [
    "## Casting\n",
    "\n",
    "Casting means changing the data type of a piece of data from one type to another. For the basic types you can cast usin functions ```int()```, ```float()```, ```str()``` and others. We can try few examples."
   ]
  },
  {
   "cell_type": "code",
   "execution_count": 26,
   "id": "b73c5567-d7c7-402e-aeed-f37605eb441c",
   "metadata": {},
   "outputs": [
    {
     "name": "stdout",
     "output_type": "stream",
     "text": [
      "<class 'int'>\n",
      "<class 'int'>\n",
      "<class 'float'>\n",
      "<class 'str'>\n"
     ]
    }
   ],
   "source": [
    "x = 1\n",
    "print(type(x))\n",
    "print(type(int(x)))\n",
    "print(type(float(x)))\n",
    "print(type(str(x)))"
   ]
  },
  {
   "cell_type": "markdown",
   "id": "a46e888a-4d5d-424f-aeb9-b06949d4de34",
   "metadata": {},
   "source": [
    "We can use that to get an integer falue from the text where a float is written (remember that this is not the best way to do this)."
   ]
  },
  {
   "cell_type": "code",
   "execution_count": 37,
   "id": "5147da95-117f-4b5b-b33b-0502f297bfa6",
   "metadata": {},
   "outputs": [
    {
     "name": "stdout",
     "output_type": "stream",
     "text": [
      "<class 'str'>\n",
      "<class 'float'>\n",
      "<class 'int'>\n",
      "12\n"
     ]
    }
   ],
   "source": [
    "y = '12.345'\n",
    "print(type(y))\n",
    "f = float(y)\n",
    "print(type(f))\n",
    "i = int(f)\n",
    "print(type(i))\n",
    "print(i)"
   ]
  },
  {
   "cell_type": "markdown",
   "id": "0681a564-9f17-4787-b731-d5a8403c76dc",
   "metadata": {},
   "source": [
    "## Functions\n",
    "\n",
    "To understand what is function in programing remember what it means in mathematics. It is some \"black box\" that for each input yields a corresponding output according to it's inner formula. In programming it is similar. We have same input values, we send them to the function and it returns us some output. Example of such function is ```print()``` which we already know. It takes some variable or value and prints it out. Another one is ```type()``` function which returns the type of given input. We can also make out own functions. There is key word ```def``` for that. Than the name of function follows with pair of ```()``` and the line is ended with ```:``` (all together ```def function_name():```). On the other line body of function follows. To call the function we use its name and ```()```. See example:"
   ]
  },
  {
   "cell_type": "code",
   "execution_count": 2,
   "id": "bb52802b-c0e6-4f19-b91c-8328edc074c5",
   "metadata": {},
   "outputs": [
    {
     "name": "stdout",
     "output_type": "stream",
     "text": [
      "I am a fucntion\n"
     ]
    }
   ],
   "source": [
    "# Definition of function\n",
    "def function_name():\n",
    "    favourite_number = 8\n",
    "    print(f'My favourite number is {favourite_number}') # function body\n",
    "    \n",
    "function_name() # function calling"
   ]
  },
  {
   "cell_type": "markdown",
   "id": "a8ea92ad-0e30-451e-bdec-9f645522bd82",
   "metadata": {},
   "source": [
    "If you want to be able to pass some arguments to function you need to add them to ```()``` in its definition. Arguments must be separated with ```,```. To call the function with these arguments you can put arguments to the ```()``` in the function call. See the next example and compere it with first one."
   ]
  },
  {
   "cell_type": "code",
   "execution_count": 5,
   "id": "50b4cf5d-5e29-40af-a2c9-50b022c60c48",
   "metadata": {},
   "outputs": [
    {
     "name": "stdout",
     "output_type": "stream",
     "text": [
      "My favourite number is 8\n"
     ]
    }
   ],
   "source": [
    "# Definition of function\n",
    "def function_name(argument1, argument2):\n",
    "    favourite_number = argument1 + argument2  # function body\n",
    "    print(f'My favourite number is {favourite_number}')\n",
    "\n",
    "x = 5 # preparing input parameters\n",
    "y = 3\n",
    "function_name(x, y) # function calling with additional parameters"
   ]
  },
  {
   "cell_type": "markdown",
   "id": "9befb224-34d8-4fd2-b0ee-58cab1505a2e",
   "metadata": {},
   "source": [
    "We can also ask function to return us something back. Key word ```return``` serves for that purpose.  So lets modify function only to count result and return it to us. We can print it ourselfs later on."
   ]
  },
  {
   "cell_type": "code",
   "execution_count": 9,
   "id": "856cf5ea-1fab-49b8-9b6f-f8fbb6ab71c7",
   "metadata": {},
   "outputs": [
    {
     "name": "stdout",
     "output_type": "stream",
     "text": [
      "My favourite number is 8\n"
     ]
    }
   ],
   "source": [
    "# Definition of function\n",
    "def function_name(argument1, argument2):\n",
    "    favourite_number = argument1 + argument2  # function body\n",
    "    return favourite_number # retruning the result to the place from where the function was called\n",
    "\n",
    "x = 5 # preparing input parameters\n",
    "y = 3\n",
    "result = function_name(x, y) # function calling with additional parameters and assignment of returned value\n",
    "print(f'My favourite number is {result}') # printing out returned result"
   ]
  },
  {
   "cell_type": "markdown",
   "id": "37febcd8-0053-4daa-b3c3-db3b0af071ba",
   "metadata": {},
   "source": [
    "At last we can clean the code a bit. We will put the adding operation into return clause and function calling into the outer print function."
   ]
  },
  {
   "cell_type": "code",
   "execution_count": 8,
   "id": "441a5ad5-d533-41da-833d-fc470630a19e",
   "metadata": {},
   "outputs": [
    {
     "name": "stdout",
     "output_type": "stream",
     "text": [
      "My favourite number is 8\n"
     ]
    }
   ],
   "source": [
    "# Definition of function\n",
    "def function_name(argument1, argument2):\n",
    "    return argument1 + argument2  # function body\n",
    "\n",
    "x = 5 # preparing input parameters\n",
    "y = 3\n",
    "print(f'My favourite number is {function_name(x, y)}') # print using result of function calling with additional parameters"
   ]
  },
  {
   "cell_type": "markdown",
   "id": "41b456d1-e1f1-4783-a884-58f2cc7966d5",
   "metadata": {},
   "source": [
    "Function allows us to move to a higher level of programming. You can see that the same result might be achieved with different ways. Some of them are better than others but it really depends on situation. So keep this in mind. Next time we will look into advanced usage of functions and also some basics of object oriented programming."
   ]
  },
  {
   "cell_type": "markdown",
   "id": "c3952d22-50cb-4d49-a10a-9778d6404cfb",
   "metadata": {
    "tags": []
   },
   "source": [
    "\n",
    "\n",
    "### Functions - number of arguments\n",
    "\n",
    "From last lesson you know that you can define the function with some parameters which you can later pass to it when you call the function. But what happens when you pass different number of arguments then you have defined in the header of function?\n"
   ]
  },
  {
   "cell_type": "code",
   "execution_count": 1,
   "id": "334c5ccb-e6e4-4a0d-a5ba-3db4fbcfbe7a",
   "metadata": {},
   "outputs": [
    {
     "ename": "TypeError",
     "evalue": "foo() missing 1 required positional argument: 'arg2'",
     "output_type": "error",
     "traceback": [
      "\u001b[1;31m---------------------------------------------------------------------------\u001b[0m",
      "\u001b[1;31mTypeError\u001b[0m                                 Traceback (most recent call last)",
      "Input \u001b[1;32mIn [1]\u001b[0m, in \u001b[0;36m<module>\u001b[1;34m\u001b[0m\n\u001b[0;32m      1\u001b[0m \u001b[38;5;28;01mdef\u001b[39;00m \u001b[38;5;21mfoo\u001b[39m(arg1, arg2):\n\u001b[0;32m      2\u001b[0m     \u001b[38;5;28mprint\u001b[39m(arg1 \u001b[38;5;241m+\u001b[39m arg2)\n\u001b[1;32m----> 4\u001b[0m \u001b[43mfoo\u001b[49m\u001b[43m(\u001b[49m\u001b[38;5;241;43m5\u001b[39;49m\u001b[43m)\u001b[49m\n",
      "\u001b[1;31mTypeError\u001b[0m: foo() missing 1 required positional argument: 'arg2'"
     ]
    }
   ],
   "source": [
    "def foo(arg1, arg2):\n",
    "    print(arg1 + arg2)\n",
    "    \n",
    "foo(5)"
   ]
  },
  {
   "cell_type": "code",
   "execution_count": 18,
   "id": "d2cff563-39f8-4ec3-95d8-82969a34ec8f",
   "metadata": {},
   "outputs": [
    {
     "ename": "TypeError",
     "evalue": "foo() takes 2 positional arguments but 3 were given",
     "output_type": "error",
     "traceback": [
      "\u001b[1;31m---------------------------------------------------------------------------\u001b[0m",
      "\u001b[1;31mTypeError\u001b[0m                                 Traceback (most recent call last)",
      "Input \u001b[1;32mIn [18]\u001b[0m, in \u001b[0;36m<module>\u001b[1;34m\u001b[0m\n\u001b[0;32m      1\u001b[0m \u001b[38;5;28;01mdef\u001b[39;00m \u001b[38;5;21mfoo\u001b[39m(arg1, arg2):\n\u001b[0;32m      2\u001b[0m     \u001b[38;5;28mprint\u001b[39m(arg1 \u001b[38;5;241m+\u001b[39m arg2)\n\u001b[1;32m----> 4\u001b[0m \u001b[43mfoo\u001b[49m\u001b[43m(\u001b[49m\u001b[38;5;241;43m5\u001b[39;49m\u001b[43m,\u001b[49m\u001b[43m \u001b[49m\u001b[38;5;241;43m4\u001b[39;49m\u001b[43m,\u001b[49m\u001b[43m \u001b[49m\u001b[38;5;241;43m3\u001b[39;49m\u001b[43m)\u001b[49m\n",
      "\u001b[1;31mTypeError\u001b[0m: foo() takes 2 positional arguments but 3 were given"
     ]
    }
   ],
   "source": [
    "def foo(arg1, arg2):\n",
    "    print(arg1 + arg2)\n",
    "    \n",
    "foo(5, 4, 3)"
   ]
  },
  {
   "cell_type": "markdown",
   "id": "250c6bc1-72ae-43cd-9db6-55feb9706cbf",
   "metadata": {},
   "source": [
    "### Arbitrary arguments\n",
    "\n",
    "As expected, too few or too much arguments will break the function. If you don't know how many arguments will be passed to your function you can use **Arbitrary arguments**, ```*args```. By adding ```*``` before the name of argument you will get a tuple of passed arguments once the function is called. We can demonstrate this with a function which multiplies all incoming numbers."
   ]
  },
  {
   "cell_type": "code",
   "execution_count": 19,
   "id": "e0683fbe-4e76-46d6-8f31-5c38595bda5e",
   "metadata": {},
   "outputs": [
    {
     "name": "stdout",
     "output_type": "stream",
     "text": [
      "6\n",
      "24\n",
      "120\n"
     ]
    }
   ],
   "source": [
    "def foo(*nums):\n",
    "    num_sum = 1\n",
    "    for num in nums:\n",
    "        num_sum *= num\n",
    "    print(num_sum)\n",
    "    \n",
    "foo(1,2,3)\n",
    "foo(1,2,3,4)\n",
    "foo(1,2,3,4,5)"
   ]
  },
  {
   "cell_type": "markdown",
   "id": "2e19ce96-a814-44b1-8600-1ec72cd212eb",
   "metadata": {},
   "source": [
    "You can combine this with other arguments but there are some rules. First you must pass the positional arguments to the function. Othervise ```*args``` wouldn't know where it should end."
   ]
  },
  {
   "cell_type": "code",
   "execution_count": 48,
   "id": "ce5c6755-45be-4aee-9e1f-db5f319eaef6",
   "metadata": {},
   "outputs": [
    {
     "name": "stdout",
     "output_type": "stream",
     "text": [
      "0\n",
      "24\n",
      "48\n"
     ]
    }
   ],
   "source": [
    "def foo_correct(base_val, *nums): # this way we can specificaly define first value\n",
    "    num_sum = base_val\n",
    "    for num in nums:\n",
    "        num_sum *= num\n",
    "    print(num_sum)\n",
    "\n",
    "foo_correct(0, 2, 3, 4)\n",
    "foo_correct(1, 2, 3, 4)\n",
    "foo_correct(2, 2, 3, 4)"
   ]
  },
  {
   "cell_type": "code",
   "execution_count": 28,
   "id": "29f1a4b3-b7bb-46b8-940b-25cec4ac9317",
   "metadata": {},
   "outputs": [
    {
     "ename": "TypeError",
     "evalue": "foo_wrong() missing 1 required keyword-only argument: 'base_val'",
     "output_type": "error",
     "traceback": [
      "\u001b[1;31m---------------------------------------------------------------------------\u001b[0m",
      "\u001b[1;31mTypeError\u001b[0m                                 Traceback (most recent call last)",
      "Input \u001b[1;32mIn [28]\u001b[0m, in \u001b[0;36m<module>\u001b[1;34m\u001b[0m\n\u001b[0;32m      4\u001b[0m         num_sum \u001b[38;5;241m*\u001b[39m\u001b[38;5;241m=\u001b[39m num\n\u001b[0;32m      5\u001b[0m     \u001b[38;5;28mprint\u001b[39m(num_sum)\n\u001b[1;32m----> 7\u001b[0m \u001b[43mfoo_wrong\u001b[49m\u001b[43m(\u001b[49m\u001b[38;5;241;43m0\u001b[39;49m\u001b[43m,\u001b[49m\u001b[43m \u001b[49m\u001b[38;5;241;43m2\u001b[39;49m\u001b[43m,\u001b[49m\u001b[43m \u001b[49m\u001b[38;5;241;43m3\u001b[39;49m\u001b[43m,\u001b[49m\u001b[43m \u001b[49m\u001b[38;5;241;43m4\u001b[39;49m\u001b[43m)\u001b[49m\n\u001b[0;32m      8\u001b[0m foo_wrong(\u001b[38;5;241m1\u001b[39m, \u001b[38;5;241m2\u001b[39m, \u001b[38;5;241m3\u001b[39m, \u001b[38;5;241m4\u001b[39m)\n\u001b[0;32m      9\u001b[0m foo_wrong(\u001b[38;5;241m2\u001b[39m, \u001b[38;5;241m2\u001b[39m, \u001b[38;5;241m3\u001b[39m, \u001b[38;5;241m4\u001b[39m)\n",
      "\u001b[1;31mTypeError\u001b[0m: foo_wrong() missing 1 required keyword-only argument: 'base_val'"
     ]
    }
   ],
   "source": [
    "def foo_wrong(*nums, base_val): # this is wrong because *nums \"eats\" all passed arguments and for the base_val there remains none\n",
    "    num_sum = base_val\n",
    "    for num in nums:\n",
    "        num_sum *= num\n",
    "    print(num_sum)\n",
    "    \n",
    "foo_wrong(0, 2, 3, 4)\n",
    "foo_wrong(1, 2, 3, 4)\n",
    "foo_wrong(2, 2, 3, 4)"
   ]
  },
  {
   "cell_type": "markdown",
   "id": "23f55b64-f71f-4efd-8b5e-de4ec49b991a",
   "metadata": {},
   "source": [
    "### Keyword arguments\n",
    "\n",
    "Solution for the error above is usage of keyword argument. The definition of function will stay the same but in the function call we will specify the value for the argument with operator ```=```."
   ]
  },
  {
   "cell_type": "code",
   "execution_count": 30,
   "id": "0debeacc-5197-4972-8837-28a94be4aefd",
   "metadata": {},
   "outputs": [
    {
     "name": "stdout",
     "output_type": "stream",
     "text": [
      "0\n",
      "24\n",
      "48\n"
     ]
    }
   ],
   "source": [
    "def foo_wrong(*nums, base_val): # this way the *nums \"eats\" arguments only until it finds the keyword argument\n",
    "    num_sum = base_val\n",
    "    for num in nums:\n",
    "        num_sum *= num\n",
    "    print(num_sum)\n",
    "    \n",
    "foo_wrong(0, 2, 3, base_val=4)\n",
    "foo_wrong(1, 2, 3, base_val=4)\n",
    "foo_wrong(2, 2, 3, base_val=4)"
   ]
  },
  {
   "cell_type": "markdown",
   "id": "9ef1765f-0651-4091-8bf4-67be4a5b1fb9",
   "metadata": {},
   "source": [
    "On top of that when we have more than one keyword argument we can swap their respective order as we wish."
   ]
  },
  {
   "cell_type": "code",
   "execution_count": 36,
   "id": "bc80223a-7da0-45c9-924a-5cd17e7303ea",
   "metadata": {},
   "outputs": [
    {
     "name": "stdout",
     "output_type": "stream",
     "text": [
      "CTU is located in Prague\n",
      "CTU is located in Prague\n",
      "CTU is located in Prague\n",
      "Prague is located in CTU\n"
     ]
    }
   ],
   "source": [
    "def university_location(university_name, university_location):\n",
    "    print(f'{university_name} is located in {university_location}')\n",
    "    \n",
    "university_location(university_name='CTU', university_location='Prague') # these 3 options are equivalent\n",
    "university_location(university_location='Prague', university_name='CTU')\n",
    "university_location('CTU', 'Prague')\n",
    "\n",
    "# while this option is incorrect \n",
    "university_location('Prague', 'CTU') # bacause we swaped the order of positional arguments passed to the function"
   ]
  },
  {
   "cell_type": "markdown",
   "id": "bc7ce1d7-ae5e-47bb-8a6e-d29b45d74533",
   "metadata": {},
   "source": [
    "### Arbitrary Keyword Arguments\n",
    "\n",
    "Another adition to our pool of arguments are **Arbitrary Keyword Arguments**, ```**kwargs```. Similarly to Arbitrary positional arguments ```**kwargs``` are used for variable number of keyword arguments. ```**kwargs``` works as dictionary of incoming variable-value pairs. We need to use the name of variable as a **key** for ```**kwargs``` dictionary"
   ]
  },
  {
   "cell_type": "code",
   "execution_count": 52,
   "id": "f5b8b40a-7fc7-4553-b857-f102e011539c",
   "metadata": {},
   "outputs": [
    {
     "name": "stdout",
     "output_type": "stream",
     "text": [
      "Capital city of Czech republic is Prague\n"
     ]
    }
   ],
   "source": [
    "def capital_city(**kwargs):\n",
    "    print(f'Capital city of Czech republic is {kwargs[\"city\"]}') # using string of the varible's name \n",
    "                                                    # ^^^^^^ WARNING: you have to use other type of quotes ('' or \"\") if you are putting string value into formatted string\n",
    "    \n",
    "capital_city(greeting='Hello world!', city='Prague', fav_num=7, random_stuff='whatever')"
   ]
  },
  {
   "cell_type": "markdown",
   "id": "d4a2a396-6c47-400b-899a-27da26f7a63a",
   "metadata": {},
   "source": [
    "Remeber that you need to pass first the positional arguments (the basic ones), followed by ```*args```, then basic keyword arguments and after that ```**kwargs```. You can also pass in your own dictionary or other containers with variables you want to use inside of the function."
   ]
  },
  {
   "cell_type": "code",
   "execution_count": 51,
   "id": "e666003b-68e1-42d4-9df4-80a9e681ee09",
   "metadata": {},
   "outputs": [
    {
     "name": "stdout",
     "output_type": "stream",
     "text": [
      "Capital city of Czech republic is Prague\n"
     ]
    }
   ],
   "source": [
    "def capital_city(my_args):\n",
    "    print(f'Capital city of Czech republic is {my_args[\"city\"]}')\n",
    "\n",
    "my_args = {\n",
    "    'greeting' : 'Hello world!',\n",
    "    'city' : 'Prague',\n",
    "    'fav_num' : 7,\n",
    "    'random_stuff' : 'whatever'\n",
    "}\n",
    "capital_city(my_args)"
   ]
  },
  {
   "cell_type": "markdown",
   "id": "3929de81-fdcd-4a77-9e15-2d9adcc7f08b",
   "metadata": {},
   "source": [
    "### Default value\n",
    "\n",
    "Last important thing about arguments which we will mention here **default value**. You can set the default value for a variable which is used if no value for that variable is passed. The assignment ```=``` operator is used for that but this time it is used in the header of function."
   ]
  },
  {
   "cell_type": "code",
   "execution_count": 58,
   "id": "6026eaa4-965f-4f19-b152-0a5d01306260",
   "metadata": {},
   "outputs": [
    {
     "ename": "SyntaxError",
     "evalue": "non-default argument follows default argument (4056747656.py, line 1)",
     "output_type": "error",
     "traceback": [
      "\u001b[1;36m  Input \u001b[1;32mIn [58]\u001b[1;36m\u001b[0m\n\u001b[1;33m    def default_val_demonstration(val=0, val2):\u001b[0m\n\u001b[1;37m                                             ^\u001b[0m\n\u001b[1;31mSyntaxError\u001b[0m\u001b[1;31m:\u001b[0m non-default argument follows default argument\n"
     ]
    }
   ],
   "source": [
    "def default_val_demonstration(val=0):\n",
    "    print(f'The value is: {val}')\n",
    "    \n",
    "default_val_demonstration(1) # it works as a normal argument when we pass a value\n",
    "default_val_demonstration() # but when we dont the default value is used instead"
   ]
  },
  {
   "cell_type": "markdown",
   "id": "a13122b5-836b-478d-826b-a23a69f54121",
   "metadata": {},
   "source": [
    "This behaviour may be used together with other arguments but there is again some restriction on the order of arguments. For demonstration we will use the simple adding function."
   ]
  },
  {
   "cell_type": "code",
   "execution_count": 64,
   "id": "7c402075-9681-43a3-a72c-b7406610adcf",
   "metadata": {},
   "outputs": [
    {
     "name": "stdout",
     "output_type": "stream",
     "text": [
      "7\n"
     ]
    }
   ],
   "source": [
    "def foo(arg1, arg2=2):\n",
    "    print(arg1 + arg2)\n",
    "    \n",
    "foo(5)"
   ]
  },
  {
   "cell_type": "code",
   "execution_count": 65,
   "id": "96f78d76-4297-421e-a5d3-e9a04cf11118",
   "metadata": {},
   "outputs": [
    {
     "ename": "SyntaxError",
     "evalue": "non-default argument follows default argument (876702479.py, line 1)",
     "output_type": "error",
     "traceback": [
      "\u001b[1;36m  Input \u001b[1;32mIn [65]\u001b[1;36m\u001b[0m\n\u001b[1;33m    def foo(arg1=2, arg2):\u001b[0m\n\u001b[1;37m                        ^\u001b[0m\n\u001b[1;31mSyntaxError\u001b[0m\u001b[1;31m:\u001b[0m non-default argument follows default argument\n"
     ]
    }
   ],
   "source": [
    "def foo(arg1=2, arg2):\n",
    "    print(arg1 + arg2)\n",
    "    \n",
    "foo(5)"
   ]
  },
  {
   "cell_type": "markdown",
   "id": "993ee33e-da22-4d48-8c8f-da478f531174",
   "metadata": {},
   "source": [
    "So as the error says, you have to use non-default arguments first. You can also combine the default arguments with other type of arguments mentioned above, but we will skip that here. If you are intrested in it fell free to explore it more deeply on your own."
   ]
  },
  {
   "cell_type": "markdown",
   "id": "3fbbe0f5-7290-4ead-b8cc-c9c4f36f5255",
   "metadata": {
    "tags": []
   },
   "source": [
    "## Lambda function\n",
    "\n",
    "Lambda function is bringing concept of anonymous function. Instead of defining whole header and body of some function we can write it inline. "
   ]
  },
  {
   "cell_type": "code",
   "execution_count": 1,
   "id": "990cdf69-50c7-4315-a7e6-dfd4b7ce504a",
   "metadata": {},
   "outputs": [
    {
     "name": "stdout",
     "output_type": "stream",
     "text": [
      "6\n"
     ]
    }
   ],
   "source": [
    "print((lambda a, b : a * b)(2, 3))"
   ]
  },
  {
   "cell_type": "markdown",
   "id": "aa2ae71a-df70-4513-9f42-a1285069d989",
   "metadata": {},
   "source": [
    "... instead of ..."
   ]
  },
  {
   "cell_type": "code",
   "execution_count": 2,
   "id": "19c4a0c9-a567-417d-aa2d-7c798472c0fd",
   "metadata": {},
   "outputs": [
    {
     "name": "stdout",
     "output_type": "stream",
     "text": [
      "6\n"
     ]
    }
   ],
   "source": [
    "def x(a, b):\n",
    "    return a * b\n",
    "\n",
    "print(x(2, 3))"
   ]
  },
  {
   "cell_type": "markdown",
   "id": "245543a3-d52d-45a9-a68e-37b41cfc6486",
   "metadata": {},
   "source": [
    "Lambdas are often uset to define specific sorting key for more komplex objects."
   ]
  },
  {
   "cell_type": "code",
   "execution_count": 20,
   "id": "2d8c3842-2457-4bbf-8f7c-3fec02a920a2",
   "metadata": {},
   "outputs": [
    {
     "name": "stdout",
     "output_type": "stream",
     "text": [
      "Default order: [(2, 'Cat'), (8, 'Dog'), (1, 'Bird'), (3, 'Snake')]\n",
      "Sorted by number(default): [(1, 'Bird'), (2, 'Cat'), (3, 'Snake'), (8, 'Dog')]\n",
      "Sorted by name: [(1, 'Bird'), (2, 'Cat'), (8, 'Dog'), (3, 'Snake')]\n"
     ]
    }
   ],
   "source": [
    "d = [(2, \"Cat\"), (8, \"Dog\"), (1, \"Bird\"), (3, \"Snake\")]\n",
    "\n",
    "print(f\"Default order: {d}\")\n",
    "\n",
    "print(f\"Sorted by number(default): {sorted(d)}\")\n",
    "\n",
    "print(f\"Sorted by name: {sorted(d, key=lambda x: x[1])}\")  # this is correct usage"
   ]
  },
  {
   "cell_type": "code",
   "execution_count": 21,
   "id": "c447e58a-5e22-4f8f-9dbe-f968d2a92e7b",
   "metadata": {},
   "outputs": [
    {
     "name": "stdout",
     "output_type": "stream",
     "text": [
      "Sorted by number(lambda): [(1, 'Bird'), (2, 'Cat'), (3, 'Snake'), (8, 'Dog')]\n"
     ]
    }
   ],
   "source": [
    "print(f\"Sorted by number(lambda): {sorted(d, key=lambda x: x[0])}\")"
   ]
  },
  {
   "cell_type": "markdown",
   "id": "e196234b-d42c-4a2f-9546-05e798ee1c68",
   "metadata": {},
   "source": [
    "## Recursion\n",
    "\n",
    "Recursion occurs when a thing is defined in terms of itself or of its type. In our scope it will be mostly a function which is calling itself inside it's own body. A recursion can be used for the same set of problems as a iteration (for, while). Recursion and iteration are mutually translatable in theory. Some problems are better to be solved with recursion and some with iteration."
   ]
  },
  {
   "cell_type": "code",
   "execution_count": 21,
   "id": "328a03b7-ee57-4842-81c3-3ddea63efc31",
   "metadata": {},
   "outputs": [
    {
     "name": "stdout",
     "output_type": "stream",
     "text": [
      "15\n"
     ]
    }
   ],
   "source": [
    "def sum_recursion(n):\n",
    "    if n <= 0:\n",
    "        return 0\n",
    "    return n + sum_recursion(n-1)\n",
    "    \n",
    "    \n",
    "sum_ = sum_recursion(5)\n",
    "print(sum_)"
   ]
  },
  {
   "cell_type": "code",
   "execution_count": 22,
   "id": "9841ecf0-2d03-4837-b702-36336ea6c885",
   "metadata": {},
   "outputs": [
    {
     "name": "stdout",
     "output_type": "stream",
     "text": [
      "15\n"
     ]
    }
   ],
   "source": [
    "def sum_iteration(n):\n",
    "    sum_n = 0\n",
    "    for i in range(n+1):\n",
    "        sum_n += i\n",
    "    return sum_n\n",
    "    \n",
    "    \n",
    "sum_ = sum_iteration(5)\n",
    "print(sum_)"
   ]
  }
 ],
 "metadata": {
  "kernelspec": {
   "display_name": "Python 3 (ipykernel)",
   "language": "python",
   "name": "python3"
  },
  "language_info": {
   "codemirror_mode": {
    "name": "ipython",
    "version": 3
   },
   "file_extension": ".py",
   "mimetype": "text/x-python",
   "name": "python",
   "nbconvert_exporter": "python",
   "pygments_lexer": "ipython3",
   "version": "3.10.5"
  }
 },
 "nbformat": 4,
 "nbformat_minor": 5
}
