{
 "cells": [
  {
   "cell_type": "markdown",
   "id": "5508b6ea-685e-4c4c-b0fd-baed51ac6a2a",
   "metadata": {},
   "source": [
    "# 03 - Introduction to OOP\n",
    "\n",
    "Classes and objects are both expressions connected to the object-oriented programming paradigm which is based on the concept of \"objects\", which can contain data and code: data in the form of fields (often known as **attributes** or properties), and code, in the form of procedures (often known as **methods**).\n",
    "\n",
    "So what is class and what is object:\n",
    "\n",
    "* **Class** is something like a template or prescription for how the object should look.\n",
    "* **Object** is an instance of a class (it is a product of the class prescription)\n",
    "\n",
    "So let's with a basic example of a definition of class with one method:"
   ]
  },
  {
   "cell_type": "code",
   "execution_count": 1,
   "id": "835a01b5-131a-483f-9f9a-9a61dd79c35b",
   "metadata": {},
   "outputs": [],
   "source": [
    "class MyClass:\n",
    "    my_atribute = 5\n",
    "        \n",
    "    def my_method(self):\n",
    "        print('Method of a class')"
   ]
  },
  {
   "cell_type": "markdown",
   "id": "725096b3-d13e-402a-94bc-95a7e74d59e3",
   "metadata": {},
   "source": [
    "As you can see the class definition doesn't run any code inside the class as it is only a template for future objects. It is similar to the definition of function (it also doesn't run anything by itself). To call that method we need to first create an **instance** of that class, the **object**. We can create an object by \"making a call on the class\" (add ```()``` behind the name) and assigning it to some variable. Once we have an object we can access **attributes** and **methods** of that object with dot ```.``` notation. See example."
   ]
  },
  {
   "cell_type": "code",
   "execution_count": 2,
   "id": "0e06dffa-2899-494b-b4ea-8b1b6e6475fa",
   "metadata": {},
   "outputs": [
    {
     "name": "stdout",
     "output_type": "stream",
     "text": [
      "The value of my_atribute is 5\n",
      "Method of a class\n"
     ]
    }
   ],
   "source": [
    "class MyClass:\n",
    "    my_atribute = 5  # atribute\n",
    "        \n",
    "    def my_method(self):  # method\n",
    "        print('Method of a class')\n",
    "\n",
    "        \n",
    "object_of_my_class = MyClass()  # creating an instance of class MyClass\n",
    "\n",
    "print(f'The value of my_atribute is {object_of_my_class.my_atribute}')  # get value of atribute an print it\n",
    "\n",
    "object_of_my_class.my_method()  # calling object method"
   ]
  },
  {
   "cell_type": "markdown",
   "id": "60fc454a-c797-45fb-bc52-2cf3899196e4",
   "metadata": {},
   "source": [
    "With dot notation, you can also change the values of attributes inside the object"
   ]
  },
  {
   "cell_type": "code",
   "execution_count": 3,
   "id": "e444f8be-e0f5-433b-abf3-ec922ee857a3",
   "metadata": {},
   "outputs": [
    {
     "name": "stdout",
     "output_type": "stream",
     "text": [
      "The value of my_atribute is 5\n",
      "The value of my_atribute is 10\n"
     ]
    }
   ],
   "source": [
    "class MyClass:\n",
    "    my_atribute = 5\n",
    "\n",
    "    \n",
    "object_of_my_class = MyClass()\n",
    "\n",
    "print(f'The value of my_atribute is {object_of_my_class.my_atribute}')\n",
    "\n",
    "object_of_my_class.my_atribute = 10  # assign new value to the atribute\n",
    "\n",
    "print(f'The value of my_atribute is {object_of_my_class.my_atribute}')  # get value of atribute an print it"
   ]
  },
  {
   "cell_type": "markdown",
   "id": "0da71f2d-d40f-4743-b89f-879026a6f4ae",
   "metadata": {},
   "source": [
    "## ```self``` - accessing object methods and atributes from inside\n",
    "\n",
    "In case want to change some attributes or access methods from inside of the object we need to get that object so we can put the ```.``` after it. From outside we use the name of the object. From inside we use the keyword ```self```. Inside the object, ```self```represents the same as the object name outside. ```self``` must be also defined at the header (as a first parameter) of every method from where we want to access the object attributes and methods. Let's make a new method which will be multiplying the attribute by a given number."
   ]
  },
  {
   "cell_type": "code",
   "execution_count": 4,
   "id": "9b8a6834-8043-47b1-8d74-552cf934f8f9",
   "metadata": {},
   "outputs": [
    {
     "name": "stdout",
     "output_type": "stream",
     "text": [
      "The value of my_atribute is 5\n",
      "The value of my_atribute is 10\n"
     ]
    }
   ],
   "source": [
    "class MyClass:\n",
    "    my_atribute = 5\n",
    "    \n",
    "    def multiply(self, num): # self in the header of method allows us to access the atribute\n",
    "        self.my_atribute = num * self.my_atribute  # usage ofself to access the atribute\n",
    "        \n",
    "\n",
    "object_of_my_class = MyClass()\n",
    "\n",
    "print(f'The value of my_atribute is {object_of_my_class.my_atribute}')\n",
    "\n",
    "object_of_my_class.multiply(2)  # calling the method from the outside\n",
    "\n",
    "print(f'The value of my_atribute is {object_of_my_class.my_atribute}')"
   ]
  },
  {
   "cell_type": "markdown",
   "id": "f4dc1b6f-f9dc-4d35-9be0-a5b4c65b384b",
   "metadata": {},
   "source": [
    "## Contructor - ```__init__```\n",
    "\n",
    "Constructor is one of the so-called magic methods (more on that later) which is used to \"construct\" (create) objects. It is the \"thing\" that happens when you put ```()``` after the name of the class. This magic behind just calls the constructor method which initializes the object and returns that object so we can assign it to a variable. In Python, we don't usually work with constructor directly but we use the ```__init__``` method. This method is used for the initialization of values and is automatically called after the object creation. It is always there even if we don't define it ourselves (default implementation is used in the background). The main reason to have a constructor is to be able to set basic values for our object when we are creating it so we don't need to update it immediately after. So let's update the example from above with a constructor:"
   ]
  },
  {
   "cell_type": "code",
   "execution_count": 5,
   "id": "efa86ecf-4589-4529-8766-abdcd58f3978",
   "metadata": {},
   "outputs": [
    {
     "name": "stdout",
     "output_type": "stream",
     "text": [
      "The value of my_atribute is 3\n",
      "The value of my_atribute is 6\n"
     ]
    }
   ],
   "source": [
    "class MyClass:\n",
    "    my_atribute = 5\n",
    "    \n",
    "    def __init__(self, value_for_my_atribute):  # constructor definition, expectation of one parametr to be passed\n",
    "        self.my_atribute = value_for_my_atribute  # assignment of passed argument into the atribute\n",
    "        \n",
    "    def multiply(self, num):\n",
    "        self.my_atribute = num * self.my_atribute\n",
    "\n",
    "        \n",
    "object_of_my_class = MyClass(3)\n",
    "\n",
    "print(f'The value of my_atribute is {object_of_my_class.my_atribute}')\n",
    "\n",
    "object_of_my_class.multiply(2)\n",
    "\n",
    "print(f'The value of my_atribute is {object_of_my_class.my_atribute}')"
   ]
  },
  {
   "cell_type": "markdown",
   "id": "3e55a817-8c65-4a89-9427-68e54eb1ac3b",
   "metadata": {},
   "source": [
    "## Class and Instance Variables\n",
    "\n",
    "In the examples above we have been mixing instance and class attributes together. Some wouldn't mind but it is not good. So first let's talk about what is the difference.\n",
    "\n",
    "Generally speaking, instance variables are for data unique to each instance and class variables are for attributes and methods shared by all instances of the class."
   ]
  },
  {
   "cell_type": "code",
   "execution_count": 6,
   "id": "e3f672bf-555a-457e-b6a0-3ddfd3ecab93",
   "metadata": {},
   "outputs": [
    {
     "name": "stdout",
     "output_type": "stream",
     "text": [
      "Dog d kind: canine\n",
      "Dog e kind: canine\n",
      "Dog d name: Fido\n",
      "Dog e name: Buddy\n"
     ]
    }
   ],
   "source": [
    "class Dog:\n",
    "\n",
    "    kind = 'canine'         # class variable shared by all instances\n",
    "\n",
    "    def __init__(self, name):\n",
    "        self.name = name    # instance variable unique to each instance\n",
    "        \n",
    "d = Dog('Fido')\n",
    "e = Dog('Buddy')\n",
    "\n",
    "print(f\"Dog d kind: {d.kind}\")    # shared by all dogs\n",
    "print(f\"Dog e kind: {e.kind}\")   # shared by all dogs\n",
    "\n",
    "print(f\"Dog d name: {d.name}\")    # unique to d\n",
    "print(f\"Dog e name: {e.name}\")    # unique to e"
   ]
  },
  {
   "cell_type": "markdown",
   "id": "1c2725a1-8100-494e-84e6-d1e33bf0597d",
   "metadata": {},
   "source": [
    "Keep in mind that there is a difference between Class and Instance Variables. It will come to be useful in more complex class designs."
   ]
  },
  {
   "cell_type": "markdown",
   "id": "6b856ece-dcab-47f2-a064-9eff27b155d7",
   "metadata": {},
   "source": [
    "## Instance, class and static method\n",
    "\n",
    "For methods, it is very similar. The **Instance method** is able to access instance-specific variables as well as class variables. We have used them before. But for the sake of clarity, we will make one more example."
   ]
  },
  {
   "cell_type": "code",
   "execution_count": 7,
   "id": "3b7fde42-d22c-4f98-9f57-fce7245fca13",
   "metadata": {},
   "outputs": [
    {
     "name": "stdout",
     "output_type": "stream",
     "text": [
      "Dog's name is: Buddy\n"
     ]
    }
   ],
   "source": [
    "class Dog:\n",
    "\n",
    "    kind = 'canine'\n",
    "    \n",
    "    def __init__(self, name):  # instance method\n",
    "        self.name = name \n",
    "        \n",
    "    def get_name(self):  # instance method\n",
    "        return self.name\n",
    "    \n",
    "dog_buddy = Dog(\"Buddy\")\n",
    "print(f\"Dog's name is: {dog_buddy.get_name()}\")"
   ]
  },
  {
   "cell_type": "markdown",
   "id": "12f7c8e3-2205-4c9c-9d0d-9b71231999c1",
   "metadata": {},
   "source": [
    "To call an instance method we need to have an instance, in this case, it is `dog_buddy`. We use `.` to call an instance method `get_name()` on our dog.\n",
    "\n",
    "The class method may be called without a specific dog. It is bound just to a class. A class method must be decorated with `@classmethod` above its definition (decorator is a wrapper that adds some functionality to your functions/methods/classes, we will look at that later). See the example:"
   ]
  },
  {
   "cell_type": "code",
   "execution_count": 8,
   "id": "8ff85409-184d-4b7c-81c9-7ad6e8e98b36",
   "metadata": {},
   "outputs": [
    {
     "name": "stdout",
     "output_type": "stream",
     "text": [
      "Any dog's kind is: canine\n",
      "Dog named Buddy is of kind: canine\n"
     ]
    },
    {
     "ename": "TypeError",
     "evalue": "Dog.get_name() missing 1 required positional argument: 'self'",
     "output_type": "error",
     "traceback": [
      "\u001b[1;31m---------------------------------------------------------------------------\u001b[0m",
      "\u001b[1;31mTypeError\u001b[0m                                 Traceback (most recent call last)",
      "Cell \u001b[1;32mIn[8], line 20\u001b[0m\n\u001b[0;32m     17\u001b[0m dog_buddy \u001b[38;5;241m=\u001b[39m Dog(\u001b[38;5;124m\"\u001b[39m\u001b[38;5;124mBuddy\u001b[39m\u001b[38;5;124m\"\u001b[39m)\n\u001b[0;32m     18\u001b[0m \u001b[38;5;28mprint\u001b[39m(\u001b[38;5;124mf\u001b[39m\u001b[38;5;124m\"\u001b[39m\u001b[38;5;124mDog named \u001b[39m\u001b[38;5;132;01m{\u001b[39;00mdog_buddy\u001b[38;5;241m.\u001b[39mget_name()\u001b[38;5;132;01m}\u001b[39;00m\u001b[38;5;124m is of kind: \u001b[39m\u001b[38;5;132;01m{\u001b[39;00mdog_buddy\u001b[38;5;241m.\u001b[39mget_kind()\u001b[38;5;132;01m}\u001b[39;00m\u001b[38;5;124m\"\u001b[39m)  \u001b[38;5;66;03m# calling class method over instance -> instance has access to everything, its class has access to\u001b[39;00m\n\u001b[1;32m---> 20\u001b[0m \u001b[38;5;28mprint\u001b[39m(\u001b[38;5;124mf\u001b[39m\u001b[38;5;124m\"\u001b[39m\u001b[38;5;124mAny dog\u001b[39m\u001b[38;5;124m'\u001b[39m\u001b[38;5;124ms name is: \u001b[39m\u001b[38;5;132;01m{\u001b[39;00mDog\u001b[38;5;241m.\u001b[39mget_name()\u001b[38;5;132;01m}\u001b[39;00m\u001b[38;5;124m\"\u001b[39m) \u001b[38;5;66;03m# calling instance method over class -> THIS WILL FAIL, CLASS CANNOT ACCESS INSTANCE PROPERTY\u001b[39;00m\n",
      "\u001b[1;31mTypeError\u001b[0m: Dog.get_name() missing 1 required positional argument: 'self'"
     ]
    }
   ],
   "source": [
    "class Dog:\n",
    "\n",
    "    kind = 'canine'\n",
    "    \n",
    "    def __init__(self, name):  # instance method\n",
    "        self.name = name \n",
    "    \n",
    "    def get_name(self):  # instance method\n",
    "        return self.name\n",
    "    \n",
    "    @classmethod\n",
    "    def get_kind(cls):  # class method\n",
    "        return cls.kind\n",
    "    \n",
    "print(f\"Any dog's kind is: {Dog.get_kind()}\")  # calling class method over class\n",
    "\n",
    "dog_buddy = Dog(\"Buddy\")\n",
    "print(f\"Dog named {dog_buddy.get_name()} is of kind: {dog_buddy.get_kind()}\")  # calling class method over instance -> instance has access to everything, its class has access to\n",
    "\n",
    "print(f\"Any dog's name is: {Dog.get_name()}\") # calling instance method over class -> THIS WILL FAIL, CLASS CANNOT ACCESS INSTANCE PROPERTY"
   ]
  },
  {
   "cell_type": "markdown",
   "id": "7195c079-7c33-49ad-a521-fd399b192c8e",
   "metadata": {},
   "source": [
    "For example, there are 3 calls. The first one is calling a class method with a class name. This is the regular usage of class methods. The second one presents the situation when an instance is called a class method. This is also correct because the instance has access to the same property as its class. But the last one is incorrect. It is showing the attempt of class accessing instance method which is not possible. Even if we use common sense, knowing that a class can have any number of instances, how would such a class select which instance are we referring to?\n",
    "\n",
    "Another interesting point is the `cls` argument in the class method. It is similar to `self` which we use in instance methods. As a class method is operating over some property from the class we need to provide it somehow to it.\n",
    "\n",
    "From the title, there is one more case remaining and it is the **Static** method. A static method in Python is a method that is bound to some class but doesn't have direct access to its members. From a more practical view if a method is not using any instance or class property then it is a static method. To make a method static you have to decorate it with `@staticmethod` and in the definition don't use either `self` or `cls`. See the example with our canine friend from before:"
   ]
  },
  {
   "cell_type": "code",
   "execution_count": 9,
   "id": "7777e9e0-7c26-492d-86f0-56dbc22aac40",
   "metadata": {},
   "outputs": [
    {
     "name": "stdout",
     "output_type": "stream",
     "text": [
      "Typical sound which all dogs make is: Woof woof!\n",
      "Our friend Buddy is a dog. Typical sound he makes is: Woof woof!\n"
     ]
    }
   ],
   "source": [
    "class Dog:\n",
    "\n",
    "    kind = 'canine'\n",
    "    \n",
    "    def __init__(self, name):  # instance method\n",
    "        self.name = name \n",
    "    \n",
    "    def get_name(self):  # instance method\n",
    "        return self.name\n",
    "        \n",
    "    @staticmethod\n",
    "    def typical_sound():  # static method\n",
    "        return(\"Woof woof!\")\n",
    "\n",
    "print(f\"Typical sound which all dogs make is: {Dog.typical_sound()}\")  # calling static method\n",
    "    \n",
    "dog_buddy = Dog(\"Buddy\")\n",
    "print(f\"Our friend {dog_buddy.get_name()} is a dog. Typical sound he makes is: {dog_buddy.typical_sound()}\")  # calling static methopd as instance method"
   ]
  },
  {
   "cell_type": "markdown",
   "id": "2ad01020-351c-41eb-b623-2e7e7aafe3d1",
   "metadata": {},
   "source": [
    "## Magic methods"
   ]
  },
  {
   "cell_type": "markdown",
   "id": "4423bad5-abd6-4b6a-aa24-c2f8f03ae770",
   "metadata": {
    "tags": []
   },
   "source": [
    "Magic methods are special methods of classes that offer some advanced functionality. They have two prefixes and two suffix underscores ```__``` so you can easily recognize them. You also already know one of them and it is ```__init__```. Other examples might be ```__repr__```, ```__add__```, ```__len__```, etc. These methods allow us to change the behavior of our objects in some specific cases. For example, as we know method ```__init__``` is called when we create a new instance of class. It is called automatically and it has a default implementation, but thanks to this magic method we can alter the default behavior and define our own. We will try the other three methods listed here in simple examples. (some other methods can be found on this list: https://www.tutorialsteacher.com/python/magic-methods-in-python)\n",
    "\n",
    "### Magic method ```__repr__```\n",
    "\n",
    "Method ```__repr__``` serve is called when we use function ```print()``` on any object. Its default implementation shows us the string with the location of our object in memory. It is fine but it isn't exactly a user-friendly representation of the object."
   ]
  },
  {
   "cell_type": "code",
   "execution_count": 10,
   "id": "963f7c53-e37d-430d-9624-4e15907ebec7",
   "metadata": {},
   "outputs": [
    {
     "name": "stdout",
     "output_type": "stream",
     "text": [
      "<__main__.Example object at 0x000001E0DE81CF70>\n"
     ]
    }
   ],
   "source": [
    "class Example:\n",
    "    pass\n",
    "\n",
    "\n",
    "example = Example()\n",
    "print(example)"
   ]
  },
  {
   "cell_type": "markdown",
   "id": "6e7d46ae-c743-47e6-b804-081c5b14fd0e",
   "metadata": {},
   "source": [
    "If we want to modify the print representation of our object we just define ```__repr__``` method."
   ]
  },
  {
   "cell_type": "code",
   "execution_count": 11,
   "id": "c7f3a7b0-61c6-47fe-aa9b-85b705484b11",
   "metadata": {},
   "outputs": [
    {
     "name": "stdout",
     "output_type": "stream",
     "text": [
      "I am instance of class Example\n"
     ]
    }
   ],
   "source": [
    "class Example:\n",
    "\n",
    "    def __repr__(self):\n",
    "        return 'I am instance of class Example'\n",
    "    \n",
    "    \n",
    "example = Example()\n",
    "print(example)"
   ]
  },
  {
   "cell_type": "markdown",
   "id": "52c8a44c-0f20-4429-8aeb-5e967b8a4bfa",
   "metadata": {},
   "source": [
    "### Magic method ```__add__()```\n",
    "\n",
    "Method ```__add__``` is used for overloading of operator ```+```. This is the reason why we can add two strings together. This method is called once the operator ```+``` is used on the object. Let's make an example with our own implementation of complex numbers."
   ]
  },
  {
   "cell_type": "code",
   "execution_count": 12,
   "id": "6f2e0501-94ca-4894-b5ab-082e08a59bd5",
   "metadata": {},
   "outputs": [
    {
     "ename": "TypeError",
     "evalue": "unsupported operand type(s) for +: 'MyComplex' and 'MyComplex'",
     "output_type": "error",
     "traceback": [
      "\u001b[1;31m---------------------------------------------------------------------------\u001b[0m",
      "\u001b[1;31mTypeError\u001b[0m                                 Traceback (most recent call last)",
      "Cell \u001b[1;32mIn[12], line 10\u001b[0m\n\u001b[0;32m      7\u001b[0m c1 \u001b[38;5;241m=\u001b[39m MyComplex(\u001b[38;5;241m1\u001b[39m, \u001b[38;5;241m2\u001b[39m)\n\u001b[0;32m      8\u001b[0m c2 \u001b[38;5;241m=\u001b[39m MyComplex(\u001b[38;5;241m3\u001b[39m, \u001b[38;5;241m4\u001b[39m)\n\u001b[1;32m---> 10\u001b[0m \u001b[38;5;28mprint\u001b[39m(\u001b[43mc1\u001b[49m\u001b[38;5;241;43m+\u001b[39;49m\u001b[43mc2\u001b[49m)\n",
      "\u001b[1;31mTypeError\u001b[0m: unsupported operand type(s) for +: 'MyComplex' and 'MyComplex'"
     ]
    }
   ],
   "source": [
    "class MyComplex():\n",
    "    \n",
    "    def __init__(self, re, im):\n",
    "        self.re = re\n",
    "        self.im = im\n",
    "\n",
    "c1 = MyComplex(1, 2)\n",
    "c2 = MyComplex(3, 4)\n",
    "\n",
    "print(c1+c2)"
   ]
  },
  {
   "cell_type": "markdown",
   "id": "a6d88008-001a-47a6-8a46-5ed77c8f1a28",
   "metadata": {},
   "source": [
    "```__add__``` doesn't have default implementation for user created object so we need to define it."
   ]
  },
  {
   "cell_type": "code",
   "execution_count": 13,
   "id": "83b2b05b-e78b-46df-ae55-1cc860fd6941",
   "metadata": {},
   "outputs": [
    {
     "name": "stdout",
     "output_type": "stream",
     "text": [
      "(4+6j)\n",
      "(4+6j)\n"
     ]
    }
   ],
   "source": [
    "class MyComplex():\n",
    "    \n",
    "    def __init__(self, re, im):\n",
    "        self.re = re\n",
    "        self.im = im\n",
    "    \n",
    "    def __add__(self, other):\n",
    "        return (self.re + other.re) + (self.im + other.im)*1j\n",
    "        \n",
    "\n",
    "c1 = MyComplex(1, 2)\n",
    "c2 = MyComplex(3, 4)\n",
    "\n",
    "print(c1 + c2)  # notation with operator\n",
    "print(c1.__add__(c2))  # notation with method"
   ]
  },
  {
   "cell_type": "markdown",
   "id": "a172a691-b4ec-41f3-b7e4-5a0471f39e2e",
   "metadata": {},
   "source": [
    "### Magic method ```__len__()```\n",
    "\n",
    "Method ```__len__()``` is called when we use function ```len()``` on object. For example, if we use it on a list, it tells us the number of elements in the ```list``` and if we use it on ```String```, it returns a number of chars in the string. We will create our specific implementation. We will have an object containing the attribute ```list``` of strings. We want the result of ```len()``` to be the sum of chars in all strings in the list."
   ]
  },
  {
   "cell_type": "code",
   "execution_count": 14,
   "id": "b0f24c86-9e3b-458e-a15b-9d5fc5bf6095",
   "metadata": {},
   "outputs": [
    {
     "name": "stdout",
     "output_type": "stream",
     "text": [
      "12\n"
     ]
    }
   ],
   "source": [
    "class MyStringList():\n",
    "    \n",
    "    def __init__(self, lst):\n",
    "        self.string_list = lst\n",
    "        \n",
    "    def __len__(self):\n",
    "        char_sum = 0\n",
    "        for elem in self.string_list:\n",
    "            char_sum += len(elem)\n",
    "        return char_sum\n",
    "    \n",
    "\n",
    "lst = ['Hello', ' ', 'world', '!']    \n",
    "my_string_list = MyStringList(lst)\n",
    "print(len(my_string_list))"
   ]
  },
  {
   "cell_type": "markdown",
   "id": "499f92dd-5538-4c3d-aa5c-6c30de434140",
   "metadata": {
    "tags": []
   },
   "source": [
    "## Encapsulation - private, protected, and public\n",
    "\n",
    "Because in Python there is nothing really private or protected we use one prefix underscore for internal purpose variables (`_inernal_var`, naming convention). For more info see: https://docs.python.org/3.10/tutorial/classes.html#private-variables\n",
    "\n",
    "If we would like to stick with convention we would use the following\n",
    "* public = `name_wihtout_any_leading_underscores`\n",
    "* protected = `_name_with_one_leading_underscore`\n",
    "* Private = `__name_with_two_leading_underscores`\n",
    "\n",
    "For the scope of this course, we will use a bit simplified approach. Every variable has a leading `_` (thus making it \"protected\") unless it is supposed to be accessed from outside of the class (without `self` or `cls`). In such case the variable is public and its name doesn't have a leading underscore. The same approach is applied to methods."
   ]
  }
 ],
 "metadata": {
  "kernelspec": {
   "display_name": "Python 3 (ipykernel)",
   "language": "python",
   "name": "python3"
  },
  "language_info": {
   "codemirror_mode": {
    "name": "ipython",
    "version": 3
   },
   "file_extension": ".py",
   "mimetype": "text/x-python",
   "name": "python",
   "nbconvert_exporter": "python",
   "pygments_lexer": "ipython3",
   "version": "3.10.5"
  }
 },
 "nbformat": 4,
 "nbformat_minor": 5
}
