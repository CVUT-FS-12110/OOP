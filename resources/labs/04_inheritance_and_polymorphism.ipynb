{
 "cells": [
  {
   "cell_type": "markdown",
   "id": "adc524d4-c1ce-4999-a736-d8444a3824fa",
   "metadata": {},
   "source": [
    "# 04 - Inheritance and polymorphism\n",
    "\n",
    "## Inheritance\n",
    "\n",
    "Inheritance in oop allows us to \"pass\" methods and atributes of the parent class to the child class. It means that we can define one base class and then make its children classes with the same base properties. \n",
    "* **Parent** class is the class being inherited from\n",
    "* **Child** class is the class that inherits from another class\n",
    "\n",
    "We can specify from which class we want to inherit within the definition of child class. It is done by adding the name of parent class inside of ```()``` after the name of child class ( ```class ChildClass(ParentClass):``` ).\n",
    "\n",
    "See the example"
   ]
  },
  {
   "cell_type": "code",
   "execution_count": 5,
   "id": "14e05af3-4238-421e-b918-30cf24e2bcec",
   "metadata": {},
   "outputs": [
    {
     "name": "stdout",
     "output_type": "stream",
     "text": [
      "Method of a class\n",
      "Method of a class\n"
     ]
    }
   ],
   "source": [
    "# Parent class\n",
    "class ParentClass:\n",
    "    my_atribute = 5\n",
    "        \n",
    "    def my_method(self):\n",
    "        print('Method of a class')\n",
    "\n",
    "        \n",
    "# Child class, empty implementation\n",
    "class ChildClass(ParentClass):\n",
    "    pass\n",
    "\n",
    "\n",
    "x = ParentClass()\n",
    "x.my_method()\n",
    "\n",
    "x = ChildClass()\n",
    "x.my_method()"
   ]
  },
  {
   "cell_type": "markdown",
   "id": "339b0f47-516c-43dc-a186-01b3b9707aa8",
   "metadata": {},
   "source": [
    "Now we have child class that does exactly the same as it's parent. But we can do more than that. We can add new stuff to the child class thus make it more specific child of it's parent. Let's make an example of parent Person class and enhanced Student child class. Person will have constructor which will allow us to set it's name. Student will be inherited from person but he will have added atribute to represent his current courses and also he gets the method which will print out the list of his courses."
   ]
  },
  {
   "cell_type": "code",
   "execution_count": null,
   "id": "34e33c9d-2b27-4d2f-8e6d-6d8e5f6540f3",
   "metadata": {},
   "outputs": [
    {
     "name": "stdout",
     "output_type": "stream",
     "text": [
      "Student Alice's courses:\n",
      "OOP\n",
      "Mathematics\n"
     ]
    },
    {
     "ename": "AttributeError",
     "evalue": "'Person' object has no attribute 'print_courses'",
     "output_type": "error",
     "traceback": [
      "\u001b[1;31m---------------------------------------------------------------------------\u001b[0m",
      "\u001b[1;31mAttributeError\u001b[0m                            Traceback (most recent call last)",
      "Cell \u001b[1;32mIn [7], line 21\u001b[0m\n\u001b[0;32m     18\u001b[0m student\u001b[38;5;241m.\u001b[39mprint_courses()\n\u001b[0;32m     20\u001b[0m person \u001b[38;5;241m=\u001b[39m Person(\u001b[38;5;124m'\u001b[39m\u001b[38;5;124mBob\u001b[39m\u001b[38;5;124m'\u001b[39m)\n\u001b[1;32m---> 21\u001b[0m person\u001b[38;5;241m.\u001b[39mprint_courses()\n",
      "\u001b[1;31mAttributeError\u001b[0m: 'Person' object has no attribute 'print_courses'"
     ]
    }
   ],
   "source": [
    "class Person():\n",
    "    \n",
    "    def __init__(self, name):\n",
    "          self.name = name\n",
    "            \n",
    "\n",
    "class Student(Person):\n",
    "    \n",
    "    current_courses = ['OOP', 'Mathematics']  # set default courses for every student\n",
    "        \n",
    "    def print_courses(self): # method for printing out student courses\n",
    "        print(f'Student {self.name}\\'s courses:')\n",
    "        for course in self.current_courses:\n",
    "            print(course)\n",
    "  \n",
    "\n",
    "student = Student('Alice')  \n",
    "student.print_courses()\n",
    "\n",
    "person = Person('Bob')\n",
    "person.print_courses()"
   ]
  },
  {
   "cell_type": "markdown",
   "id": "aa806587-5e4a-430d-872c-3e8245382f86",
   "metadata": {},
   "source": [
    "### Parent constructor - ```super().__init__()```\n",
    "\n",
    "When we want to create an constructor for our child class we need to integrate parent's consturctor into it. Without it our child class wouldn't have properties initialized in parent's constructor so it would be impossible to access them.\n",
    "\n",
    "Simply you cant think about it as we need to create instance of parent class first (with parent's constructor) and then add some child class specific stuff to it (with child constructor). To call parent's constructor we use ```super()``` and than append ```__init__()``` to it and in general we put this statement at the top of child constructor body. You also need to pass parent class related input parameters to the parent's constructor. See the following example "
   ]
  },
  {
   "cell_type": "code",
   "execution_count": 24,
   "id": "7362ea0b-077d-4577-a277-dfc882e8c1e8",
   "metadata": {},
   "outputs": [
    {
     "name": "stdout",
     "output_type": "stream",
     "text": [
      "Student Alice's courses:\n",
      "Python\n",
      "Mathematics\n",
      "\n"
     ]
    },
    {
     "ename": "TypeError",
     "evalue": "__init__() takes 2 positional arguments but 3 were given",
     "output_type": "error",
     "traceback": [
      "\u001b[1;31m---------------------------------------------------------------------------\u001b[0m",
      "\u001b[1;31mTypeError\u001b[0m                                 Traceback (most recent call last)",
      "Input \u001b[1;32mIn [24]\u001b[0m, in \u001b[0;36m<module>\u001b[1;34m\u001b[0m\n\u001b[0;32m     25\u001b[0m \u001b[38;5;28mprint\u001b[39m()\n\u001b[0;32m     27\u001b[0m \u001b[38;5;66;03m# Person class doesn't have atributes or methods of Student so we are not able to use them on Parent's instances\u001b[39;00m\n\u001b[1;32m---> 28\u001b[0m person \u001b[38;5;241m=\u001b[39m \u001b[43mPerson\u001b[49m\u001b[43m(\u001b[49m\u001b[38;5;124;43m'\u001b[39;49m\u001b[38;5;124;43mBob\u001b[39;49m\u001b[38;5;124;43m'\u001b[39;49m\u001b[43m,\u001b[49m\u001b[43m \u001b[49m\u001b[43m[\u001b[49m\u001b[38;5;124;43m'\u001b[39;49m\u001b[38;5;124;43mPython\u001b[39;49m\u001b[38;5;124;43m'\u001b[39;49m\u001b[43m,\u001b[49m\u001b[43m \u001b[49m\u001b[38;5;124;43m'\u001b[39;49m\u001b[38;5;124;43mMathematics\u001b[39;49m\u001b[38;5;124;43m'\u001b[39;49m\u001b[43m]\u001b[49m\u001b[43m)\u001b[49m\n\u001b[0;32m     29\u001b[0m person\u001b[38;5;241m.\u001b[39mprint_courses()\n",
      "\u001b[1;31mTypeError\u001b[0m: __init__() takes 2 positional arguments but 3 were given"
     ]
    }
   ],
   "source": [
    "class Person():\n",
    "    \n",
    "    def __init__(self, name):\n",
    "          self.name = name\n",
    "    \n",
    "    \n",
    "class Student(Person):\n",
    "    \n",
    "    current_courses = []\n",
    "    \n",
    "    def __init__(self, name, courses):\n",
    "        super().__init__(name)  # calling constructor of parent class Person, passing name parameter to it (inherited property)\n",
    "        self.current_courses = courses  # setting the atribute current_courses (child class specific property)\n",
    "        \n",
    "    def print_courses(self):\n",
    "        print(f'Student {self.name}\\'s courses:')\n",
    "        for course in self.current_courses:\n",
    "            print(course)\n",
    "           \n",
    "        \n",
    "# thanks to Student specific constructor we can set courses for every Student instance during it's initialization\n",
    "student = Student('Alice', ['Python', 'Mathematics'])\n",
    "student.print_courses()\n",
    "\n",
    "print()\n",
    "\n",
    "# Person class doesn't have atributes or methods of Student so we are not able to use them on Parent's instances\n",
    "person = Person('Bob', ['Python', 'Mathematics'])\n",
    "person.print_courses()"
   ]
  },
  {
   "cell_type": "markdown",
   "id": "86aa4195-9875-49ca-b49e-e215279c0293",
   "metadata": {},
   "source": [
    "You can see that while Student can work with its courses, Person cannot but both classes has access to person's name. In general child classes have atributes and methods of the parent classes but parent classes don't have properties of their children."
   ]
  },
  {
   "cell_type": "markdown",
   "id": "a267d8e5-e9db-44fd-a206-d435dd144376",
   "metadata": {},
   "source": [
    "## Polymorphism\n",
    "\n",
    "Polymorphism is an object-oriented programming concept that refers to the ability of a variable, function or object to take on multiple forms. It allows programmers to work more in general approach. We will focus on dynamic polymorphism of inherited objects. In this case polymorphism allows child classes to use methods with same name but different implementation than parent or other possible children. Let's start with simple example of inheritance (no polymorphism here yet)"
   ]
  },
  {
   "cell_type": "code",
   "execution_count": 25,
   "id": "9e8175eb-55e3-4651-b1f5-22e51e0feb71",
   "metadata": {},
   "outputs": [
    {
     "name": "stdout",
     "output_type": "stream",
     "text": [
      "My name is Alice. I am just a generic person\n",
      "My name is Bob. I am just a generic person\n",
      "My name is Carlos. I am just a generic person\n"
     ]
    }
   ],
   "source": [
    "class Person():\n",
    "    \n",
    "    def __init__(self, name):\n",
    "          self.name = name\n",
    "            \n",
    "    def personal_introduction(self):\n",
    "        print(f'My name is {self.name}. I am just a generic person')\n",
    "         \n",
    "            \n",
    "class Teacher(Person):\n",
    "    pass\n",
    "    \n",
    "    \n",
    "class Student(Person):\n",
    "    pass\n",
    "\n",
    "\n",
    "person = Person('Alice')\n",
    "person.personal_introduction()\n",
    "\n",
    "teacher = Teacher('Bob')\n",
    "teacher.personal_introduction()\n",
    "\n",
    "student = Student('Carlos')\n",
    "student.personal_introduction()"
   ]
  },
  {
   "cell_type": "markdown",
   "id": "54dff854-d728-4384-b37d-3146610224d7",
   "metadata": {},
   "source": [
    "As we expected, children inherited parent's method and the output for all of them was same (except their name). But we can the some changes for the children and create their own implementation of method ```personal_introduction()```. When we call these methods on their instances, we can see that each object used it's own method. "
   ]
  },
  {
   "cell_type": "code",
   "execution_count": 26,
   "id": "e48e09a4-7614-45b9-b0df-bd689d7350fb",
   "metadata": {},
   "outputs": [
    {
     "name": "stdout",
     "output_type": "stream",
     "text": [
      "My name is Alice. I am just generic person\n",
      "My name is Bob. I am teacher\n",
      "My name is Carlos. I am student\n"
     ]
    }
   ],
   "source": [
    "class Person():\n",
    "    \n",
    "    def __init__(self, name):\n",
    "          self.name = name\n",
    "            \n",
    "    def personal_introduction(self):\n",
    "        print(f'My name is {self.name}. I am just generic person')\n",
    "           \n",
    "            \n",
    "class Teacher(Person):\n",
    "    def personal_introduction(self):\n",
    "        print(f'My name is {self.name}. I am teacher')\n",
    "    \n",
    "    \n",
    "class Student(Person):\n",
    "    def personal_introduction(self):\n",
    "        print(f'My name is {self.name}. I am student')\n",
    "\n",
    "        \n",
    "person = Person('Alice')\n",
    "person.personal_introduction()\n",
    "\n",
    "teacher = Teacher('Bob')\n",
    "teacher.personal_introduction()\n",
    "\n",
    "student = Student('Carlos')\n",
    "student.personal_introduction()"
   ]
  },
  {
   "cell_type": "markdown",
   "id": "91e430d0-c6db-4041-96e8-5297f954876f",
   "metadata": {},
   "source": [
    "And now, why is it good for? Thanks to the fact that all children classes inherits from their parents, we know that every one of these children will have an implementation of ```personal_introduction()``` method. Some of them will use the parent's implementation and some of them will have their own, but in the end all of them will be able to call that method. For practical usage it means we can put all Person like objects to a container (school register, seat distribution in a bus, etc.), iterate over them and call that method on each one of them. Thanks to polymorphism we will get some kind of expected result on every call."
   ]
  },
  {
   "cell_type": "code",
   "execution_count": 12,
   "id": "0fab954c-75dc-48d5-bd16-11950618d829",
   "metadata": {},
   "outputs": [
    {
     "name": "stdout",
     "output_type": "stream",
     "text": [
      "My name is Alice. I am teacher\n",
      "My name is Bob. I am student\n",
      "My name is Carlos. I am master student\n",
      "My name is Derek. I am just generic person\n"
     ]
    }
   ],
   "source": [
    "class Person():\n",
    "    \n",
    "    def __init__(self, name):\n",
    "          self.name = name\n",
    "            \n",
    "    def personal_introduction(self):\n",
    "        print(f'My name is {self.name}. I am just generic person')\n",
    "         \n",
    "            \n",
    "class Teacher(Person):\n",
    "    def personal_introduction(self):\n",
    "        print(f'My name is {self.name}. I am teacher')\n",
    "    \n",
    "    \n",
    "class Student(Person):\n",
    "    def personal_introduction(self):\n",
    "        print(f'My name is {self.name}. I am student')\n",
    "        \n",
    "        \n",
    "class MasterStudent(Student):\n",
    "    def personal_introduction(self):\n",
    "        print(f'My name is {self.name}. I am master student')\n",
    "        \n",
    "        \n",
    "class Stranger(Person):  \n",
    "    # stranger doesn't override parent's method with own implementation so he will use implementation of Person (parent class)\n",
    "    pass\n",
    "\n",
    "        \n",
    "# Teacher, Student, MasterStudent overrides parent method with own implementation    \n",
    "teacher = Teacher('Alice')\n",
    "student1 = Student('Bob')\n",
    "student2 = MasterStudent('Carlos')\n",
    "# Stranger uses parent's implementation, no override\n",
    "stranger = Stranger('Derek')  \n",
    "school_register = [teacher, student1, student2, stranger]\n",
    "\n",
    "for person in school_register:\n",
    "    person.personal_introduction()"
   ]
  },
  {
   "cell_type": "markdown",
   "id": "d6de500f-d9bf-45ab-a5f4-c65a46e238ba",
   "metadata": {},
   "source": [
    "The main advantage of polymorphism is that it allows us to think and program more in the general rather than do it in the specific. As a real life examples we can take the school register of all students, teachers and other associates. Both teachers and students have access to KOS system but each of them have different privileges and constraints. Teacher can fill in grades for students and students may sign to exam terms. Other example could be a system for vehicle parking slots where the general Vehicle is inherited into Car, Bus, Truck and so on. As a voluntary home exercise think about other possible situations where polymorphism might be beneficial and how would you implemented it."
   ]
  }
 ],
 "metadata": {
  "kernelspec": {
   "display_name": "Python 3 (ipykernel)",
   "language": "python",
   "name": "python3"
  },
  "language_info": {
   "codemirror_mode": {
    "name": "ipython",
    "version": 3
   },
   "file_extension": ".py",
   "mimetype": "text/x-python",
   "name": "python",
   "nbconvert_exporter": "python",
   "pygments_lexer": "ipython3",
   "version": "3.10.5"
  }
 },
 "nbformat": 4,
 "nbformat_minor": 5
}
