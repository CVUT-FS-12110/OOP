{
 "cells": [
  {
   "cell_type": "markdown",
   "id": "fed224b3",
   "metadata": {},
   "source": [
    "## Selection sort ##\n",
    "![image](img/selection.gif \"https://codepumpkin.com/selection-sort-algorithms/\")\n",
    "gif form https://codepumpkin.com/selection-sort-algorithms/\n"
   ]
  },
  {
   "cell_type": "code",
   "execution_count": 15,
   "id": "2c031e53",
   "metadata": {},
   "outputs": [
    {
     "name": "stdout",
     "output_type": "stream",
     "text": [
      "Sorted Array in Ascending Order:\n",
      "[-9, -2, 0, 11, 45]\n"
     ]
    }
   ],
   "source": [
    "def selection_sort(data):\n",
    "    \n",
    "    # prepare copy of input list\n",
    "    array = data.copy()\n",
    "    size = len(array)\n",
    "    \n",
    "    \n",
    "    # iterate through the whole list\n",
    "    for step in range(size):\n",
    "        min_index = step\n",
    "        \n",
    "        # we iterate from the step index, because min values are already sorted from the left\n",
    "        for i in range(step, size):\n",
    "         \n",
    "            # select the minimum element in each loop\n",
    "            if array[i] < array[min_index]:\n",
    "                min_index = i\n",
    "         \n",
    "        # put min at the correct position\n",
    "        (array[step], array[min_index]) = (array[min_index], array[step])\n",
    "        \n",
    "#         # alternative way of swapping:\n",
    "#         temp =  array[step]\n",
    "#         array[step] = array[min_index]\n",
    "#         array[min_index] = temp\n",
    "        \n",
    "    return array\n",
    "\n",
    "\n",
    "data = [-2, 45, 0, 11, -9]\n",
    "\n",
    "sorted_data = selection_sort(data)\n",
    "print('Sorted Array in Ascending Order:')\n",
    "print(sorted_data)"
   ]
  },
  {
   "cell_type": "markdown",
   "id": "d8fd452f",
   "metadata": {},
   "source": [
    "## Bubble sort ##\n",
    "![image](img/bubble.gif)\n",
    "gif form https://codepumpkin.com/bubble-sort//"
   ]
  },
  {
   "cell_type": "code",
   "execution_count": 16,
   "id": "ac6b131a",
   "metadata": {},
   "outputs": [
    {
     "name": "stdout",
     "output_type": "stream",
     "text": [
      "Sorted Array in Ascending Order:\n",
      "[-9, -2, 0, 11, 45]\n"
     ]
    }
   ],
   "source": [
    "def bubble_sort(data):\n",
    "    \n",
    "    # prepare copy of input list\n",
    "    array = data.copy()\n",
    "    size = len(array)\n",
    "    \n",
    "   # loop through each element of array\n",
    "    for i in range(size):\n",
    "        \n",
    "        # keep track of swapping\n",
    "        swapped = False\n",
    "    \n",
    "        # loop to compare array elements\n",
    "        for j in range(size - i - 1):\n",
    "\n",
    "          # compare two adjacent elements\n",
    "          # change > to < to sort in descending order\n",
    "            if array[j] > array[j + 1]:\n",
    "\n",
    "                # swapping occurs if elements\n",
    "                # are not in the intended order\n",
    "                temp = array[j]\n",
    "                array[j] = array[j+1]\n",
    "                array[j+1] = temp\n",
    "\n",
    "                swapped = True\n",
    "          \n",
    "    # no swapping means the array is already sorted\n",
    "    # so no need for further comparison\n",
    "        if not swapped:\n",
    "            break\n",
    "            \n",
    "    return array\n",
    "\n",
    "data = [-2, 45, 0, 11, -9]\n",
    "\n",
    "sorted_data = bubble_sort(data)\n",
    "\n",
    "print('Sorted Array in Ascending Order:')\n",
    "print(sorted_data)"
   ]
  },
  {
   "cell_type": "markdown",
   "id": "13622b2f",
   "metadata": {},
   "source": [
    "## Merge sort ##\n",
    "![image](img/merge.gif)\n",
    "gif form https://codepumpkin.com/merge-sort-sorting-algorithm/"
   ]
  },
  {
   "cell_type": "code",
   "execution_count": 17,
   "id": "edb4d9da",
   "metadata": {},
   "outputs": [
    {
     "name": "stdout",
     "output_type": "stream",
     "text": [
      "Sorted Array in Ascending Order:\n",
      "[1, 5, 6, 9, 10, 12]\n"
     ]
    }
   ],
   "source": [
    "def merge_sort(array):\n",
    "    if len(array) > 1:\n",
    "\n",
    "        #  half is the point where the array is divided into two subarrays\n",
    "        half = len(array)//2\n",
    "        left = array[:half]\n",
    "        right = array[half:]\n",
    "\n",
    "        # Sort the two halves\n",
    "        merge_sort(left)\n",
    "        merge_sort(right)\n",
    "\n",
    "        i = j = k = 0\n",
    "\n",
    "        # Until we reach either end of either left or right, pick larger among\n",
    "        # elements left and right and place them in the correct position\n",
    "        while i < len(left) and j < len(right):\n",
    "            if left[i] < right[j]:\n",
    "                array[k] = left[i]\n",
    "                i = i + 1\n",
    "            else:\n",
    "                array[k] = right[j]\n",
    "                j =j + 1\n",
    "            k = k + 1\n",
    "\n",
    "        # When we run out of elements in either left or right,\n",
    "        # pick up the remaining elements\n",
    "        while i < len(left):\n",
    "            array[k] = left[i]\n",
    "            i = i + 1\n",
    "            k = k + 1\n",
    "\n",
    "        while j < len(right):\n",
    "            array[k] = right[j]\n",
    "            j = j + 1\n",
    "            k = k + 1\n",
    "        \n",
    "    return array\n",
    "\n",
    "\n",
    "\n",
    "\n",
    "array = [6, 5, 12, 10, 9, 1]\n",
    "\n",
    "sorted_data = merge_sort(array)\n",
    "\n",
    "print('Sorted Array in Ascending Order:')\n",
    "print(sorted_data)"
   ]
  },
  {
   "cell_type": "markdown",
   "id": "46693541",
   "metadata": {},
   "source": [
    "## Stop watch for measuring the sorting algorithms"
   ]
  },
  {
   "cell_type": "code",
   "execution_count": 18,
   "id": "5cf3e533",
   "metadata": {},
   "outputs": [],
   "source": [
    "import random\n",
    "import time"
   ]
  },
  {
   "cell_type": "code",
   "execution_count": 19,
   "id": "2ffbbe11",
   "metadata": {},
   "outputs": [],
   "source": [
    "# put 10000 random integers into the array\n",
    "array = []\n",
    "for _ in range(10000):\n",
    "    array.append(random.randint(-1000000, 1000000))"
   ]
  },
  {
   "cell_type": "code",
   "execution_count": 20,
   "id": "b717d4ca",
   "metadata": {},
   "outputs": [
    {
     "name": "stdout",
     "output_type": "stream",
     "text": [
      "18.96901273727417\n"
     ]
    }
   ],
   "source": [
    "#save the time value before the function is called\n",
    "start = time.time()\n",
    "\n",
    "# call the function\n",
    "sorted_data = bubble_sort(array)\n",
    "\n",
    "#save the time value after the function executed\n",
    "stop = time.time()\n",
    "\n",
    "# the result is the difference between stop and start\n",
    "elapsed_time = stop - start\n",
    "\n",
    "print(elapsed_time)"
   ]
  },
  {
   "cell_type": "markdown",
   "id": "35ff91af",
   "metadata": {},
   "source": [
    "## Stopwatch decorator"
   ]
  },
  {
   "cell_type": "code",
   "execution_count": 21,
   "id": "a3d07a47",
   "metadata": {},
   "outputs": [],
   "source": [
    "# decorator to calculate duration\n",
    "# taken by any function.\n",
    "def calculate_time(func):\n",
    "     \n",
    "    # added arguments inside the inner,\n",
    "    # if function takes any arguments,\n",
    "    # can be added like this.\n",
    "    def inner(*args, **kwargs):\n",
    " \n",
    "        # storing time before function execution\n",
    "        start = time.time()\n",
    "         \n",
    "        ret = func(*args, **kwargs)\n",
    " \n",
    "        # storing time after function execution\n",
    "        stop = time.time()\n",
    "        print(f\"{func.__name__} elapsed time: { stop - start } s\")\n",
    "        \n",
    "        return ret\n",
    " \n",
    "    return inner"
   ]
  },
  {
   "cell_type": "code",
   "execution_count": 22,
   "id": "ff8924e1",
   "metadata": {},
   "outputs": [],
   "source": [
    "@calculate_time\n",
    "def selection_sort(data):\n",
    "    \n",
    "    # prepare copy of input list\n",
    "    array = data.copy()\n",
    "    size = len(array)\n",
    "    \n",
    "    \n",
    "    # iterate through the whole list\n",
    "    for step in range(size):\n",
    "        min_index = step\n",
    "        \n",
    "        # we iterate from the step index, because min values are already sorted from the left\n",
    "        for i in range(step, size):\n",
    "         \n",
    "            # select the minimum element in each loop\n",
    "            if array[i] < array[min_index]:\n",
    "                min_index = i\n",
    "         \n",
    "        # put min at the correct position\n",
    "#         (array[step], array[min_index]) = (array[min_index], array[step])\n",
    "        \n",
    "        # alternative way of swapping:\n",
    "        temp =  array[step]\n",
    "        array[step] = array[min_index]\n",
    "        array[min_index] = temp\n",
    "        \n",
    "    return array\n",
    "\n",
    "@calculate_time\n",
    "def bubble_sort(data):\n",
    "    \n",
    "    # prepare copy of input list\n",
    "    array = data.copy()\n",
    "    size = len(array)\n",
    "    \n",
    "   # loop through each element of array\n",
    "    for i in range(size):\n",
    "        \n",
    "        # keep track of swapping\n",
    "        swapped = False\n",
    "    \n",
    "        # loop to compare array elements\n",
    "        for j in range(size - i - 1):\n",
    "\n",
    "          # compare two adjacent elements\n",
    "          # change > to < to sort in descending order\n",
    "            if array[j] > array[j + 1]:\n",
    "\n",
    "                # swapping occurs if elements\n",
    "                # are not in the intended order\n",
    "                temp = array[j]\n",
    "                array[j] = array[j+1]\n",
    "                array[j+1] = temp\n",
    "\n",
    "                swapped = True\n",
    "          \n",
    "    # no swapping means the array is already sorted\n",
    "    # so no need for further comparison\n",
    "        if not swapped:\n",
    "            break\n",
    "            \n",
    "    return array"
   ]
  },
  {
   "cell_type": "code",
   "execution_count": null,
   "id": "b141fe75",
   "metadata": {},
   "outputs": [],
   "source": [
    "# put 10000 random integers into the array\n",
    "data = []\n",
    "for _ in range(10000):\n",
    "    data.append(random.randint(-1000000, 1000000))\n",
    "\n",
    "sorted_data = selection_sort(data)\n",
    "sorted_data_2 = bubble_sort(data)"
   ]
  },
  {
   "cell_type": "markdown",
   "id": "e868a650",
   "metadata": {},
   "source": [
    "It is not possible to use the decorator for merge sort because of recursion"
   ]
  },
  {
   "cell_type": "code",
   "execution_count": null,
   "id": "6033a792",
   "metadata": {},
   "outputs": [],
   "source": [
    "start = time.time()\n",
    "\n",
    "sorted_data_3 = merge_sort(array)\n",
    "\n",
    "stop = time.time()\n",
    "\n",
    "elapsed_time = stop - start\n",
    "\n",
    "print(f\"merge sort elapsed time: { stop - start} s\")"
   ]
  },
  {
   "cell_type": "code",
   "execution_count": null,
   "id": "d50dfb0a",
   "metadata": {},
   "outputs": [],
   "source": []
  }
 ],
 "metadata": {
  "kernelspec": {
   "display_name": "Python 3 (ipykernel)",
   "language": "python",
   "name": "python3"
  },
  "language_info": {
   "codemirror_mode": {
    "name": "ipython",
    "version": 3
   },
   "file_extension": ".py",
   "mimetype": "text/x-python",
   "name": "python",
   "nbconvert_exporter": "python",
   "pygments_lexer": "ipython3",
   "version": "3.8.10"
  }
 },
 "nbformat": 4,
 "nbformat_minor": 5
}
