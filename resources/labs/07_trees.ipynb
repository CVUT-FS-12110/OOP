{
 "cells": [
  {
   "cell_type": "markdown",
   "id": "fed224b3",
   "metadata": {},
   "source": [
    "## Binary tree ##\n",
    "![image](img/oop_07.png)\n"
   ]
  },
  {
   "cell_type": "code",
   "execution_count": 35,
   "id": "e0629f8b",
   "metadata": {},
   "outputs": [],
   "source": [
    "class Node:\n",
    "    \"\"\"Basic node class with data atribute and left and right atribute for binary tree\"\"\"\n",
    "    def __init__(self, data=None):\n",
    "        self.data = data\n",
    "        self.left = None\n",
    "        self.right = None\n",
    "\n",
    "root = Node(10) # instance of a Node class\n",
    "node_2 = Node(20) # instance of not connected node \n",
    "node_3 = Node(8) # instance of another node without connection\n",
    "\n",
    "# Link first Node to second node\n",
    "root.left = node_3\n",
    "\n",
    "# Link second Node to third node\n",
    "root.right = node_2"
   ]
  },
  {
   "cell_type": "code",
   "execution_count": 36,
   "id": "bd589a64",
   "metadata": {},
   "outputs": [
    {
     "name": "stdout",
     "output_type": "stream",
     "text": [
      "10\n"
     ]
    }
   ],
   "source": [
    "print(root.data)"
   ]
  },
  {
   "cell_type": "code",
   "execution_count": 37,
   "id": "746456a2",
   "metadata": {},
   "outputs": [
    {
     "name": "stdout",
     "output_type": "stream",
     "text": [
      "8\n"
     ]
    }
   ],
   "source": [
    "print(root.left.data)"
   ]
  },
  {
   "cell_type": "code",
   "execution_count": 38,
   "id": "5cc3e3cb",
   "metadata": {},
   "outputs": [
    {
     "name": "stdout",
     "output_type": "stream",
     "text": [
      "20\n"
     ]
    }
   ],
   "source": [
    "print(root.right.data)"
   ]
  },
  {
   "cell_type": "code",
   "execution_count": 39,
   "id": "913bd3d4",
   "metadata": {},
   "outputs": [
    {
     "ename": "NameError",
     "evalue": "name 'right' is not defined",
     "output_type": "error",
     "traceback": [
      "\u001b[1;31m---------------------------------------------------------------------------\u001b[0m",
      "\u001b[1;31mNameError\u001b[0m                                 Traceback (most recent call last)",
      "\u001b[1;32m~\\AppData\\Local\\Temp\\ipykernel_3616\\3786600317.py\u001b[0m in \u001b[0;36m<module>\u001b[1;34m\u001b[0m\n\u001b[1;32m----> 1\u001b[1;33m \u001b[0mprint\u001b[0m\u001b[1;33m(\u001b[0m\u001b[0mright\u001b[0m\u001b[1;33m.\u001b[0m\u001b[0mright\u001b[0m\u001b[1;33m.\u001b[0m\u001b[0mdata\u001b[0m\u001b[1;33m)\u001b[0m \u001b[1;31m# we are out of the tree\u001b[0m\u001b[1;33m\u001b[0m\u001b[1;33m\u001b[0m\u001b[0m\n\u001b[0m",
      "\u001b[1;31mNameError\u001b[0m: name 'right' is not defined"
     ]
    }
   ],
   "source": [
    "print(right.right.data) # we are out of the tree"
   ]
  },
  {
   "cell_type": "code",
   "execution_count": 40,
   "id": "4f76a530",
   "metadata": {},
   "outputs": [
    {
     "name": "stdout",
     "output_type": "stream",
     "text": [
      "None\n"
     ]
    }
   ],
   "source": [
    "print(root.right.right)"
   ]
  },
  {
   "cell_type": "markdown",
   "id": "7276d11b",
   "metadata": {},
   "source": [
    "## Insert into the tree. if new data < data go to the left, if new data > data go to the right ##"
   ]
  },
  {
   "cell_type": "code",
   "execution_count": 41,
   "id": "4d8a0ce1",
   "metadata": {},
   "outputs": [],
   "source": [
    "class Node:\n",
    "    def __init__(self, data=None):\n",
    "        self.data = data\n",
    "        self.left = None\n",
    "        self.right = None\n",
    "\n",
    "    \n",
    "    def insert(self, data):\n",
    "    \n",
    "        if self.data: # check if root exists\n",
    "            if data < self.data: # are new data smaller?\n",
    "                if self.left is None: # is left reference free?\n",
    "                    self.left = Node(data) # put data into free left reference\n",
    "                else:\n",
    "                    self.left.insert(data) # otherwise call the function again\n",
    "            elif data > self.data: # the same for right subtree\n",
    "                if self.right is None:\n",
    "                    self.right = Node(data)\n",
    "                else:\n",
    "                    self.right.insert(data)\n",
    "        else:\n",
    "            self.data = data # if root has no data, insert data into the root"
   ]
  },
  {
   "cell_type": "code",
   "execution_count": 42,
   "id": "12851fa6",
   "metadata": {},
   "outputs": [
    {
     "name": "stdout",
     "output_type": "stream",
     "text": [
      "10\n"
     ]
    }
   ],
   "source": [
    "bin_tree = Node()\n",
    "bin_tree.insert(10)\n",
    "\n",
    "# print the tree root value\n",
    "print(bin_tree.data)"
   ]
  },
  {
   "cell_type": "code",
   "execution_count": 43,
   "id": "954a84a8",
   "metadata": {},
   "outputs": [
    {
     "name": "stdout",
     "output_type": "stream",
     "text": [
      "300\n"
     ]
    }
   ],
   "source": [
    "bin_tree.insert(300)\n",
    "\n",
    "print(bin_tree.right.data)"
   ]
  },
  {
   "cell_type": "code",
   "execution_count": 44,
   "id": "78e74ce4",
   "metadata": {},
   "outputs": [],
   "source": [
    "bin_tree.insert(2)"
   ]
  },
  {
   "cell_type": "code",
   "execution_count": 45,
   "id": "5e7a908c",
   "metadata": {},
   "outputs": [
    {
     "name": "stdout",
     "output_type": "stream",
     "text": [
      "2\n"
     ]
    }
   ],
   "source": [
    "print(bin_tree.left.data)"
   ]
  },
  {
   "cell_type": "code",
   "execution_count": 46,
   "id": "0f09a9f9",
   "metadata": {},
   "outputs": [],
   "source": [
    "bin_tree.insert(8)"
   ]
  },
  {
   "cell_type": "code",
   "execution_count": 47,
   "id": "4cb024f9",
   "metadata": {},
   "outputs": [
    {
     "name": "stdout",
     "output_type": "stream",
     "text": [
      "8\n"
     ]
    }
   ],
   "source": [
    "print(bin_tree.left.right.data)"
   ]
  },
  {
   "cell_type": "markdown",
   "id": "a4985189",
   "metadata": {},
   "source": [
    "## print the tree"
   ]
  },
  {
   "cell_type": "code",
   "execution_count": 48,
   "id": "163700f5",
   "metadata": {},
   "outputs": [],
   "source": [
    "class Node:\n",
    "    def __init__(self, data=None):\n",
    "        self.data = data\n",
    "        self.left = None\n",
    "        self.right = None\n",
    "        self.depth = None\n",
    "\n",
    "    \n",
    "    def insert(self, data):\n",
    "    \n",
    "        if self.data: # check if root exists\n",
    "            if data < self.data: # are new data smaller?\n",
    "                if self.left is None: # is left reference free?\n",
    "                    self.left = Node(data) # put data into free left reference\n",
    "                else:\n",
    "                    self.left.insert(data) # otherwise call the function again\n",
    "            elif data > self.data: # the same for right subtree\n",
    "                if self.right is None:\n",
    "                    self.right = Node(data)\n",
    "                else:\n",
    "                    self.right.insert(data)\n",
    "        else:\n",
    "            self.data = data # if root has no data, insert data into the root\n",
    "            \n",
    "    #we can use static method for recursion because we could not do it with \"self\" object.\n",
    "    #otherwise we should write: def print_tree(self, tree, level=0, prefix=\"\"):\n",
    "    #and use the tree object as a helper object.\n",
    "    @staticmethod\n",
    "    def print_tree(tree, level=0, prefix=\"\"):\n",
    "        if tree.data: # check if tree root has data\n",
    "            # print a space proportional to the depth level of a tree\n",
    "            print(\" \"*(4*level) + prefix + str(tree.data))\n",
    "            if tree.left:\n",
    "                 # call the function for left subtrees and increment the depth level.\n",
    "                 # prefix is \"L: \" which means left.\n",
    "                Node.print_tree(tree.left,level=level+1,prefix=\"L:\")\n",
    "            if tree.right:\n",
    "                 # call the function for rught subtrees and increment the depth level\n",
    "                Node.print_tree(tree.right,level=level+1,prefix=\"R:\")\n",
    "\n"
   ]
  },
  {
   "cell_type": "code",
   "execution_count": 49,
   "id": "217693d9",
   "metadata": {},
   "outputs": [
    {
     "name": "stdout",
     "output_type": "stream",
     "text": [
      "10\n",
      "    L:5\n",
      "    R:20\n",
      "        R:40\n",
      "            L:30\n",
      "            R:200\n"
     ]
    }
   ],
   "source": [
    "bin_tree = Node()\n",
    "\n",
    "bin_tree.insert(10)\n",
    "bin_tree.insert(5)\n",
    "bin_tree.insert(20)\n",
    "bin_tree.insert(40)\n",
    "bin_tree.insert(200)\n",
    "bin_tree.insert(30)\n",
    "\n",
    "bin_tree.print_tree(bin_tree)"
   ]
  },
  {
   "cell_type": "markdown",
   "id": "97bb5226",
   "metadata": {},
   "source": [
    "## Traversal of o tree\n",
    "the algorithm will return a list of ordered elements from binary tree\n",
    "\n",
    "![image](img/oop_07_02.png)"
   ]
  },
  {
   "cell_type": "code",
   "execution_count": 50,
   "id": "916f5be6",
   "metadata": {},
   "outputs": [],
   "source": [
    "class Node:\n",
    "    def __init__(self, data=None):\n",
    "        self.data = data\n",
    "        self.left = None\n",
    "        self.right = None\n",
    "        self.depth = None\n",
    "\n",
    "    \n",
    "    def insert(self, data):\n",
    "    \n",
    "        if self.data: # check if root exists\n",
    "            if data < self.data: # are new data smaller?\n",
    "                if self.left is None: # is left reference free?\n",
    "                    self.left = Node(data) # put data into free left reference\n",
    "                else:\n",
    "                    self.left.insert(data) # otherwise call the function again\n",
    "            elif data > self.data: # the same for right subtree\n",
    "                if self.right is None:\n",
    "                    self.right = Node(data)\n",
    "                else:\n",
    "                    self.right.insert(data)\n",
    "        else:\n",
    "            self.data = data # if root has no data, insert data into the root\n",
    "            \n",
    "    #we can use static method for recursion because we could not do it with \"self\" object.\n",
    "    #otherwise we should write: def print_tree(self, tree, level=0, prefix=\"\"):\n",
    "    #and use the tree object as a helper object.\n",
    "    @staticmethod\n",
    "    def print_tree(tree, level=0, prefix=\"\"):\n",
    "        if tree.data: # check if tree root has data\n",
    "            # print a space proportional to the depth level of a tree\n",
    "            print(\" \"*(4*level) + prefix + str(tree.data))\n",
    "            if tree.left:\n",
    "                 # call the function for left subtrees and increment the depth level.\n",
    "                 # prefix is \"L: \" which means left.\n",
    "                Node.print_tree(tree.left,level=level+1,prefix=\"L:\")\n",
    "            if tree.right:\n",
    "                 # call the function for rught subtrees and increment the depth level\n",
    "                Node.print_tree(tree.right,level=level+1,prefix=\"R:\")\n",
    "\n",
    "    \n",
    "    @staticmethod            \n",
    "    def in_order_traversal(tree):\n",
    "        ordered_elements = [] # prepare empty list\n",
    "        if tree:\n",
    "            ordered_elements = Node.in_order_traversal(tree.left) # recursion for left subtrees\n",
    "            ordered_elements.append(tree.data) #append data of reached subroot\n",
    "            ordered_elements.extend(Node.in_order_traversal(tree.right)) # recursion for right subtrees\n",
    "        return ordered_elements"
   ]
  },
  {
   "cell_type": "code",
   "execution_count": 51,
   "id": "5c6d1133",
   "metadata": {},
   "outputs": [
    {
     "name": "stdout",
     "output_type": "stream",
     "text": [
      "[5, 10, 20, 40, 200]\n"
     ]
    }
   ],
   "source": [
    "bin_tree = Node()\n",
    "\n",
    "bin_tree.insert(10)\n",
    "bin_tree.insert(5)\n",
    "bin_tree.insert(20)\n",
    "bin_tree.insert(200)\n",
    "bin_tree.insert(40)\n",
    "\n",
    "print(bin_tree.in_order_traversal(bin_tree))"
   ]
  },
  {
   "cell_type": "markdown",
   "id": "77178a06",
   "metadata": {},
   "source": [
    "## Check the max. depth of a tree\n",
    "it is necessary to search in left and right subtrees and the result is the maximum from those"
   ]
  },
  {
   "cell_type": "code",
   "execution_count": 52,
   "id": "c3c91b00",
   "metadata": {},
   "outputs": [],
   "source": [
    "class Node:\n",
    "    def __init__(self, data=None):\n",
    "        self.data = data\n",
    "        self.left = None\n",
    "        self.right = None\n",
    "        self.depth = None\n",
    "\n",
    "    \n",
    "    def insert(self, data):\n",
    "    \n",
    "        if self.data: # check if root exists\n",
    "            if data < self.data: # are new data smaller?\n",
    "                if self.left is None: # is left reference free?\n",
    "                    self.left = Node(data) # put data into free left reference\n",
    "                else:\n",
    "                    self.left.insert(data) # otherwise call the function again\n",
    "            elif data > self.data: # the same for right subtree\n",
    "                if self.right is None:\n",
    "                    self.right = Node(data)\n",
    "                else:\n",
    "                    self.right.insert(data)\n",
    "        else:\n",
    "            self.data = data # if root has no data, insert data into the root\n",
    "            \n",
    "    #we can use static method for recursion because we could not do it with \"self\" object.\n",
    "    #otherwise we should write: def print_tree(self, tree, level=0, prefix=\"\"):\n",
    "    #and use the tree object as a helper object.\n",
    "    @staticmethod\n",
    "    def print_tree(tree, level=0, prefix=\"\"):\n",
    "        if tree.data: # check if tree root has data\n",
    "            # print a space proportional to the depth level of a tree\n",
    "            print(\" \"*(4*level) + prefix + str(tree.data))\n",
    "            if tree.left:\n",
    "                 # call the function for left subtrees and increment the depth level.\n",
    "                 # prefix is \"L: \" which means left.\n",
    "                Node.print_tree(tree.left,level=level+1,prefix=\"L:\")\n",
    "            if tree.right:\n",
    "                 # call the function for rught subtrees and increment the depth level\n",
    "                Node.print_tree(tree.right,level=level+1,prefix=\"R:\")\n",
    "\n",
    "    \n",
    "    @staticmethod            \n",
    "    def in_order_traversal(tree):\n",
    "        ordered_elements = [] # prepare empty list\n",
    "        if tree:\n",
    "            ordered_elements = Node.in_order_traversal(tree.left) # recursion for left subtrees\n",
    "            ordered_elements.append(tree.data) #append data of reached subroot\n",
    "            ordered_elements.extend(Node.in_order_traversal(tree.right)) # recursion for right subtrees\n",
    "        return ordered_elements\n",
    "    \n",
    "    @staticmethod\n",
    "    def max_depth(tree, depth = 0):\n",
    "        if tree is None:\n",
    "            return depth - 1 # -1 because we reach the \"None node\" and we increment + 1 below\n",
    "        \n",
    "        # left subtree recursion, every call the depth is increased\n",
    "        left_depth = Node.max_depth(tree.left,depth + 1) \n",
    "        # right subtree recursion, every call the depth is increased\n",
    "        right_depth = Node.max_depth(tree.right,depth + 1)\n",
    "        return max(left_depth, right_depth)"
   ]
  },
  {
   "cell_type": "code",
   "execution_count": 53,
   "id": "2de9f44b",
   "metadata": {},
   "outputs": [
    {
     "name": "stdout",
     "output_type": "stream",
     "text": [
      "10\n",
      "    L:5\n",
      "        L:3\n",
      "    R:20\n",
      "        R:200\n",
      "            L:40\n",
      "                L:30\n",
      "            R:300\n",
      "max depth is: 4\n"
     ]
    }
   ],
   "source": [
    "bin_tree = Node()\n",
    "\n",
    "bin_tree.insert(10)\n",
    "bin_tree.insert(5)\n",
    "bin_tree.insert(3)\n",
    "bin_tree.insert(20)\n",
    "bin_tree.insert(200)\n",
    "bin_tree.insert(40)\n",
    "bin_tree.insert(300)\n",
    "bin_tree.insert(30)\n",
    "\n",
    "\n",
    "\n",
    "bin_tree.print_tree(bin_tree)\n",
    "print(f\"max depth is: {bin_tree.max_depth(bin_tree)}\")"
   ]
  },
  {
   "cell_type": "markdown",
   "id": "f28023fe",
   "metadata": {},
   "source": [
    "## Search for exact element value"
   ]
  },
  {
   "cell_type": "code",
   "execution_count": 54,
   "id": "fcc7c728",
   "metadata": {},
   "outputs": [],
   "source": [
    "class Node:\n",
    "    def __init__(self, data=None):\n",
    "        self.data = data\n",
    "        self.left = None\n",
    "        self.right = None\n",
    "        self.depth = None\n",
    "\n",
    "    \n",
    "    def insert(self, data):\n",
    "    \n",
    "        if self.data: # check if root exists\n",
    "            if data < self.data: # are new data smaller?\n",
    "                if self.left is None: # is left reference free?\n",
    "                    self.left = Node(data) # put data into free left reference\n",
    "                else:\n",
    "                    self.left.insert(data) # otherwise call the function again\n",
    "            elif data > self.data: # the same for right subtree\n",
    "                if self.right is None:\n",
    "                    self.right = Node(data)\n",
    "                else:\n",
    "                    self.right.insert(data)\n",
    "        else:\n",
    "            self.data = data # if root has no data, insert data into the root\n",
    "            \n",
    "    #we can use static method for recursion because we could not do it with \"self\" object.\n",
    "    #otherwise we should write: def print_tree(self, tree, level=0, prefix=\"\"):\n",
    "    #and use the tree object as a helper object.\n",
    "    @staticmethod\n",
    "    def print_tree(tree, level=0, prefix=\"\"):\n",
    "        if tree.data: # check if tree root has data\n",
    "            # print a space proportional to the depth level of a tree\n",
    "            print(\" \"*(4*level) + prefix + str(tree.data))\n",
    "            if tree.left:\n",
    "                 # call the function for left subtrees and increment the depth level.\n",
    "                 # prefix is \"L: \" which means left.\n",
    "                Node.print_tree(tree.left,level=level+1,prefix=\"L:\")\n",
    "            if tree.right:\n",
    "                 # call the function for rught subtrees and increment the depth level\n",
    "                Node.print_tree(tree.right,level=level+1,prefix=\"R:\")\n",
    "\n",
    "    \n",
    "    @staticmethod            \n",
    "    def in_order_traversal(tree):\n",
    "        ordered_elements = [] # prepare empty list\n",
    "        if tree:\n",
    "            ordered_elements = Node.in_order_traversal(tree.left)\n",
    "            ordered_elements.append(tree.data)\n",
    "            ordered_elements.extend(Node.in_order_traversal(tree.right))\n",
    "        return ordered_elements\n",
    "    \n",
    "    @staticmethod\n",
    "    def max_depth(tree, depth = 0):\n",
    "        if tree is None:\n",
    "            return depth - 1 \n",
    "\n",
    "        left_depth = Node.max_depth(tree.left,depth+1)\n",
    "        right_depth = Node.max_depth(tree.right,depth+1)\n",
    "        return max(left_depth, right_depth)\n",
    "    \n",
    "    @staticmethod\n",
    "    def contains(tree, data):\n",
    "        if tree: \n",
    "            if tree.data == data: # if the data equals to subroot return True\n",
    "                return True\n",
    "            if tree.data > data:\n",
    "                # if the data are bigger than the value of subroot, call the recursion with left subtree\n",
    "                return Node.contains(tree.left, data)\n",
    "            else:\n",
    "                 # if the data are smaller than the value of subroot, call the recursion with right subtree\n",
    "                return Node.contains(tree.right, data)\n",
    "        return False # if no match is found, return false\n"
   ]
  },
  {
   "cell_type": "code",
   "execution_count": 55,
   "id": "c068d401",
   "metadata": {},
   "outputs": [
    {
     "name": "stdout",
     "output_type": "stream",
     "text": [
      "10\n",
      "    L:5\n",
      "        L:3\n",
      "    R:20\n",
      "        R:200\n",
      "            L:40\n",
      "                L:30\n",
      "            R:300\n",
      "False\n"
     ]
    }
   ],
   "source": [
    "bin_tree = Node()\n",
    "\n",
    "bin_tree.insert(10)\n",
    "bin_tree.insert(5)\n",
    "bin_tree.insert(3)\n",
    "bin_tree.insert(20)\n",
    "bin_tree.insert(200)\n",
    "bin_tree.insert(40)\n",
    "bin_tree.insert(300)\n",
    "bin_tree.insert(30)\n",
    "\n",
    "\n",
    "\n",
    "bin_tree.print_tree(bin_tree)\n",
    "print(bin_tree.contains(bin_tree,19))"
   ]
  },
  {
   "cell_type": "code",
   "execution_count": 56,
   "id": "ae0a4325",
   "metadata": {},
   "outputs": [
    {
     "name": "stdout",
     "output_type": "stream",
     "text": [
      "True\n"
     ]
    }
   ],
   "source": [
    "print(bin_tree.contains(bin_tree,5))"
   ]
  },
  {
   "cell_type": "code",
   "execution_count": null,
   "id": "b27d1ae3",
   "metadata": {},
   "outputs": [],
   "source": []
  }
 ],
 "metadata": {
  "kernelspec": {
   "display_name": "Python 3 (ipykernel)",
   "language": "python",
   "name": "python3"
  },
  "language_info": {
   "codemirror_mode": {
    "name": "ipython",
    "version": 3
   },
   "file_extension": ".py",
   "mimetype": "text/x-python",
   "name": "python",
   "nbconvert_exporter": "python",
   "pygments_lexer": "ipython3",
   "version": "3.7.6"
  }
 },
 "nbformat": 4,
 "nbformat_minor": 5
}
