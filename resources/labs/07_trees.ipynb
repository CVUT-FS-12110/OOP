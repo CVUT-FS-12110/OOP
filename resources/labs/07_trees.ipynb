{
 "cells": [
  {
   "cell_type": "markdown",
   "id": "fed224b3",
   "metadata": {},
   "source": [
    "## Binary tree ##\n",
    "![image](img/oop_07.png)\n"
   ]
  },
  {
   "cell_type": "code",
   "execution_count": 1,
   "id": "e0629f8b",
   "metadata": {},
   "outputs": [],
   "source": [
    "class Node:\n",
    "    \"\"\"Basic node class with data atribute and left and right atribute for binary tree\"\"\"\n",
    "    def __init__(self, data=None):\n",
    "        self.data = data\n",
    "        self.left = None\n",
    "        self.right = None\n",
    "\n",
    "root = Node(10) # instance of a Node class\n",
    "node_2 = Node(20) # instance of not connected node \n",
    "node_3 = Node(8) # instance of another node without connection\n",
    "\n",
    "# Link first Node to second node\n",
    "root.left = node_3\n",
    "\n",
    "# Link second Node to third node\n",
    "root.right = node_2"
   ]
  },
  {
   "cell_type": "code",
   "execution_count": 2,
   "id": "bd589a64",
   "metadata": {},
   "outputs": [
    {
     "name": "stdout",
     "output_type": "stream",
     "text": [
      "10\n"
     ]
    }
   ],
   "source": [
    "print(root.data)"
   ]
  },
  {
   "cell_type": "code",
   "execution_count": 3,
   "id": "746456a2",
   "metadata": {},
   "outputs": [
    {
     "name": "stdout",
     "output_type": "stream",
     "text": [
      "8\n"
     ]
    }
   ],
   "source": [
    "print(root.left.data)"
   ]
  },
  {
   "cell_type": "code",
   "execution_count": 4,
   "id": "5cc3e3cb",
   "metadata": {},
   "outputs": [
    {
     "name": "stdout",
     "output_type": "stream",
     "text": [
      "20\n"
     ]
    }
   ],
   "source": [
    "print(root.right.data)"
   ]
  },
  {
   "cell_type": "code",
   "execution_count": 5,
   "id": "913bd3d4",
   "metadata": {},
   "outputs": [
    {
     "ename": "NameError",
     "evalue": "name 'right' is not defined",
     "output_type": "error",
     "traceback": [
      "\u001b[1;31m---------------------------------------------------------------------------\u001b[0m",
      "\u001b[1;31mNameError\u001b[0m                                 Traceback (most recent call last)",
      "Cell \u001b[1;32mIn[5], line 1\u001b[0m\n\u001b[1;32m----> 1\u001b[0m \u001b[38;5;28mprint\u001b[39m(\u001b[43mright\u001b[49m\u001b[38;5;241m.\u001b[39mright\u001b[38;5;241m.\u001b[39mdata) \u001b[38;5;66;03m# we are out of the tree\u001b[39;00m\n",
      "\u001b[1;31mNameError\u001b[0m: name 'right' is not defined"
     ]
    }
   ],
   "source": [
    "print(right.right.data) # we are out of the tree"
   ]
  },
  {
   "cell_type": "code",
   "execution_count": 6,
   "id": "4f76a530",
   "metadata": {},
   "outputs": [
    {
     "name": "stdout",
     "output_type": "stream",
     "text": [
      "None\n"
     ]
    }
   ],
   "source": [
    "print(root.right.right)"
   ]
  },
  {
   "cell_type": "markdown",
   "id": "7276d11b",
   "metadata": {},
   "source": [
    "## Insert into the tree. if new data < data go to the left, if new data > data go to the right ##"
   ]
  },
  {
   "cell_type": "code",
   "execution_count": 7,
   "id": "4d8a0ce1",
   "metadata": {},
   "outputs": [],
   "source": [
    "class Node:\n",
    "    def __init__(self, data=None):\n",
    "        self.data = data\n",
    "        self.left = None\n",
    "        self.right = None\n",
    "\n",
    "    \n",
    "    def insert(self, data):\n",
    "    \n",
    "        if self.data: # check if root exists\n",
    "            if data < self.data: # are new data smaller?\n",
    "                if self.left is None: # is left reference free?\n",
    "                    self.left = Node(data) # put data into free left reference\n",
    "                else:\n",
    "                    self.left.insert(data) # otherwise call the function again\n",
    "            elif data > self.data: # the same for right subtree\n",
    "                if self.right is None:\n",
    "                    self.right = Node(data)\n",
    "                else:\n",
    "                    self.right.insert(data)\n",
    "        else:\n",
    "            self.data = data # if root has no data, insert data into the root"
   ]
  },
  {
   "cell_type": "code",
   "execution_count": 8,
   "id": "12851fa6",
   "metadata": {},
   "outputs": [
    {
     "name": "stdout",
     "output_type": "stream",
     "text": [
      "10\n"
     ]
    }
   ],
   "source": [
    "bin_tree = Node()\n",
    "bin_tree.insert(10)\n",
    "\n",
    "# print the tree root value\n",
    "print(bin_tree.data)"
   ]
  },
  {
   "cell_type": "code",
   "execution_count": 9,
   "id": "954a84a8",
   "metadata": {},
   "outputs": [
    {
     "name": "stdout",
     "output_type": "stream",
     "text": [
      "300\n"
     ]
    }
   ],
   "source": [
    "bin_tree.insert(300)\n",
    "\n",
    "print(bin_tree.right.data)"
   ]
  },
  {
   "cell_type": "code",
   "execution_count": 10,
   "id": "78e74ce4",
   "metadata": {},
   "outputs": [],
   "source": [
    "bin_tree.insert(2)"
   ]
  },
  {
   "cell_type": "code",
   "execution_count": 11,
   "id": "5e7a908c",
   "metadata": {},
   "outputs": [
    {
     "name": "stdout",
     "output_type": "stream",
     "text": [
      "2\n"
     ]
    }
   ],
   "source": [
    "print(bin_tree.left.data)"
   ]
  },
  {
   "cell_type": "code",
   "execution_count": 12,
   "id": "0f09a9f9",
   "metadata": {},
   "outputs": [],
   "source": [
    "bin_tree.insert(8)"
   ]
  },
  {
   "cell_type": "code",
   "execution_count": 13,
   "id": "4cb024f9",
   "metadata": {},
   "outputs": [
    {
     "name": "stdout",
     "output_type": "stream",
     "text": [
      "8\n"
     ]
    }
   ],
   "source": [
    "print(bin_tree.left.right.data)"
   ]
  },
  {
   "cell_type": "markdown",
   "id": "a4985189",
   "metadata": {},
   "source": [
    "## print the tree"
   ]
  },
  {
   "cell_type": "code",
   "execution_count": 14,
   "id": "163700f5",
   "metadata": {},
   "outputs": [],
   "source": [
    "class Node:\n",
    "    def __init__(self, data=None):\n",
    "        self.data = data\n",
    "        self.left = None\n",
    "        self.right = None\n",
    "        self.depth = None\n",
    "\n",
    "    \n",
    "    def insert(self, data):\n",
    "    \n",
    "        if self.data: # check if root exists\n",
    "            if data < self.data: # are new data smaller?\n",
    "                if self.left is None: # is left reference free?\n",
    "                    self.left = Node(data) # put data into free left reference\n",
    "                else:\n",
    "                    self.left.insert(data) # otherwise call the function again\n",
    "            elif data > self.data: # the same for right subtree\n",
    "                if self.right is None:\n",
    "                    self.right = Node(data)\n",
    "                else:\n",
    "                    self.right.insert(data)\n",
    "        else:\n",
    "            self.data = data # if root has no data, insert data into the root\n",
    "            \n",
    "    #we can use static method for recursion because we could not do it with \"self\" object.\n",
    "    #otherwise we should write: def print_tree(self, tree, level=0, prefix=\"\"):\n",
    "    #and use the tree object as a helper object.\n",
    "    @staticmethod\n",
    "    def print_tree_(tree, level=0, prefix=\"\"):\n",
    "        if tree.data: # check if tree root has data\n",
    "            # print a space proportional to the depth level of a tree\n",
    "            print(\" \"*(4*level) + prefix + str(tree.data))\n",
    "            if tree.left:\n",
    "                 # call the function for left subtrees and increment the depth level.\n",
    "                 # prefix is \"L: \" which means left.\n",
    "                Node.print_tree(tree.left,level=level+1,prefix=\"L:\")\n",
    "            if tree.right:\n",
    "                 # call the function for rught subtrees and increment the depth level\n",
    "                Node.print_tree(tree.right,level=level+1,prefix=\"R:\")\n",
    "\n",
    "    def print_tree(self, level=0, prefix=\"\"):\n",
    "            if self.data is not None:  # check if node has data\n",
    "                # print a space proportional to the depth level of a tree\n",
    "                print(\" \" * (4 * level) + prefix + str(self.data))\n",
    "                if self.left:\n",
    "                    # call the function for left subtrees and increment the depth level.\n",
    "                    # prefix is \"L: \" which means left.\n",
    "                    self.left.print_tree(level + 1, \"L: \")\n",
    "                if self.right:\n",
    "                    # call the function for right subtrees and increment the depth level\n",
    "                    self.right.print_tree(level + 1, \"R: \")\n",
    "\n"
   ]
  },
  {
   "cell_type": "code",
   "execution_count": 19,
   "id": "217693d9",
   "metadata": {},
   "outputs": [
    {
     "name": "stdout",
     "output_type": "stream",
     "text": [
      "10\n",
      "    L: 5\n",
      "        L: 2\n",
      "    R: 20\n",
      "        R: 40\n",
      "            L: 30\n",
      "            R: 200\n"
     ]
    }
   ],
   "source": [
    "bin_tree = Node()\n",
    "\n",
    "bin_tree.insert(10)\n",
    "bin_tree.insert(5)\n",
    "bin_tree.insert(20)\n",
    "bin_tree.insert(40)\n",
    "bin_tree.insert(200)\n",
    "bin_tree.insert(30)\n",
    "bin_tree.insert(2)\n",
    "\n",
    "bin_tree.print_tree()"
   ]
  },
  {
   "cell_type": "code",
   "execution_count": 20,
   "id": "99a03491-5d42-4dea-b6a7-b771bbb703ed",
   "metadata": {},
   "outputs": [
    {
     "name": "stdout",
     "output_type": "stream",
     "text": [
      "10\n",
      "    L:5\n",
      "        L: 2\n",
      "    R:20\n",
      "        R: 40\n",
      "            L: 30\n",
      "            R: 200\n"
     ]
    }
   ],
   "source": [
    "bin_tree.print_tree_(bin_tree)"
   ]
  },
  {
   "cell_type": "markdown",
   "id": "97bb5226",
   "metadata": {},
   "source": [
    "## Traversal of o tree\n",
    "the algorithm will return a list of ordered elements from binary tree\n",
    "\n",
    "![image](img/oop_07_02.png)"
   ]
  },
  {
   "cell_type": "code",
   "execution_count": 22,
   "id": "916f5be6",
   "metadata": {},
   "outputs": [],
   "source": [
    "class Node:\n",
    "    def __init__(self, data=None):\n",
    "        self.data = data\n",
    "        self.left = None\n",
    "        self.right = None\n",
    "        self.depth = None\n",
    "\n",
    "    \n",
    "    def insert(self, data):\n",
    "    \n",
    "        if self.data: # check if root exists\n",
    "            if data < self.data: # are new data smaller?\n",
    "                if self.left is None: # is left reference free?\n",
    "                    self.left = Node(data) # put data into free left reference\n",
    "                else:\n",
    "                    self.left.insert(data) # otherwise call the function again\n",
    "            elif data > self.data: # the same for right subtree\n",
    "                if self.right is None:\n",
    "                    self.right = Node(data)\n",
    "                else:\n",
    "                    self.right.insert(data)\n",
    "        else:\n",
    "            self.data = data # if root has no data, insert data into the root\n",
    "            \n",
    "    def print_tree(self, level=0, prefix=\"\"):\n",
    "            if self.data is not None:  # check if node has data\n",
    "                # print a space proportional to the depth level of a tree\n",
    "                print(\" \" * (4 * level) + prefix + str(self.data))\n",
    "                if self.left:\n",
    "                    # call the function for left subtrees and increment the depth level.\n",
    "                    # prefix is \"L: \" which means left.\n",
    "                    self.left.print_tree(level + 1, \"L: \")\n",
    "                if self.right:\n",
    "                    # call the function for right subtrees and increment the depth level\n",
    "                    self.right.print_tree(level + 1, \"R: \")\n",
    "    @staticmethod            \n",
    "    def in_order_traversal_(tree):\n",
    "        ordered_elements = [] # prepare empty list\n",
    "        if tree:\n",
    "            ordered_elements = Node.in_order_traversal(tree.left) # recursion for left subtrees\n",
    "            ordered_elements.append(tree.data) #append data of reached subroot\n",
    "            ordered_elements.extend(Node.in_order_traversal(tree.right)) # recursion for right subtrees\n",
    "        return ordered_elements\n",
    "\n",
    "    def in_order_traversal(self):\n",
    "        ordered_elements = []  # prepare empty list\n",
    "        if self.left:\n",
    "            ordered_elements += self.left.in_order_traversal()  # recursion for left subtrees\n",
    "        ordered_elements.append(self.data) # append the root\n",
    "        if self.right:  # recursion for right subtrees\n",
    "            ordered_elements += self.right.in_order_traversal()\n",
    "        return ordered_elements"
   ]
  },
  {
   "cell_type": "code",
   "execution_count": 24,
   "id": "5c6d1133",
   "metadata": {},
   "outputs": [
    {
     "name": "stdout",
     "output_type": "stream",
     "text": [
      "[5, 10, 20, 40, 200]\n",
      "[5, 10, 20, 40, 200]\n"
     ]
    }
   ],
   "source": [
    "bin_tree = Node()\n",
    "\n",
    "bin_tree.insert(10)\n",
    "bin_tree.insert(5)\n",
    "bin_tree.insert(20)\n",
    "bin_tree.insert(200)\n",
    "bin_tree.insert(40)\n",
    "\n",
    "print(bin_tree.in_order_traversal())\n",
    "print(bin_tree.in_order_traversal_(bin_tree))"
   ]
  },
  {
   "cell_type": "markdown",
   "id": "77178a06",
   "metadata": {},
   "source": [
    "## Check the max. depth of a tree\n",
    "it is necessary to search in left and right subtrees and the result is the maximum from those"
   ]
  },
  {
   "cell_type": "code",
   "execution_count": 7,
   "id": "c3c91b00",
   "metadata": {},
   "outputs": [],
   "source": [
    "class Node:\n",
    "    def __init__(self, data=None):\n",
    "        self.data = data\n",
    "        self.left = None\n",
    "        self.right = None\n",
    "        self.depth = None\n",
    "\n",
    "    \n",
    "    def insert(self, data):\n",
    "    \n",
    "        if self.data: # check if root exists\n",
    "            if data < self.data: # are new data smaller?\n",
    "                if self.left is None: # is left reference free?\n",
    "                    self.left = Node(data) # put data into free left reference\n",
    "                else:\n",
    "                    self.left.insert(data) # otherwise call the function again\n",
    "            elif data > self.data: # the same for right subtree\n",
    "                if self.right is None:\n",
    "                    self.right = Node(data)\n",
    "                else:\n",
    "                    self.right.insert(data)\n",
    "        else:\n",
    "            self.data = data # if root has no data, insert data into the root\n",
    "            \n",
    "    #we can use static method for recursion because we could not do it with \"self\" object.\n",
    "    #otherwise we should write: def print_tree(self, tree, level=0, prefix=\"\"):\n",
    "    #and use the tree object as a helper object.\n",
    "    @staticmethod\n",
    "    def print_tree(tree, level=0, prefix=\"\"):\n",
    "        if tree.data: # check if tree root has data\n",
    "            # print a space proportional to the depth level of a tree\n",
    "            print(\" \"*(4*level) + prefix + str(tree.data))\n",
    "            if tree.left:\n",
    "                 # call the function for left subtrees and increment the depth level.\n",
    "                 # prefix is \"L: \" which means left.\n",
    "                Node.print_tree(tree.left,level=level+1,prefix=\"L:\")\n",
    "            if tree.right:\n",
    "                 # call the function for rught subtrees and increment the depth level\n",
    "                Node.print_tree(tree.right,level=level+1,prefix=\"R:\")\n",
    "\n",
    "    \n",
    "    @staticmethod            \n",
    "    def in_order_traversal(tree):\n",
    "        ordered_elements = [] # prepare empty list\n",
    "        if tree:\n",
    "            ordered_elements = Node.in_order_traversal(tree.left) # recursion for left subtrees\n",
    "            ordered_elements.append(tree.data) #append data of reached subroot\n",
    "            ordered_elements.extend(Node.in_order_traversal(tree.right)) # recursion for right subtrees\n",
    "        return ordered_elements\n",
    "    \n",
    "    @staticmethod\n",
    "    def max_depth_(tree, depth = 0):\n",
    "        if tree is None:\n",
    "            return depth - 1 # -1 because we reach the \"None node\" and we increment + 1 below\n",
    "        \n",
    "        # left subtree recursion, every call the depth is increased\n",
    "        left_depth = Node.max_depth(tree.left,depth + 1) \n",
    "        # right subtree recursion, every call the depth is increased\n",
    "        right_depth = Node.max_depth(tree.right,depth + 1)\n",
    "        return max(left_depth, right_depth)\n",
    "\n",
    "    def max_depth(self, depth=0):\n",
    "        # Recursive call for the left subtree, incrementing the depth\n",
    "        if self.left:\n",
    "            left_depth = self.left.max_depth(depth + 1)\n",
    "        else:\n",
    "            left_depth = depth\n",
    "\n",
    "        # Recursive call for the right subtree, incrementing the depth\n",
    "        if self.right:\n",
    "            right_depth = self.right.max_depth(depth + 1)\n",
    "        else:\n",
    "            right_depth = depth\n",
    "\n",
    "        # Return the maximum of the depths of the left and right subtrees\n",
    "        return max(left_depth, right_depth)"
   ]
  },
  {
   "cell_type": "code",
   "execution_count": 8,
   "id": "2de9f44b",
   "metadata": {},
   "outputs": [
    {
     "name": "stdout",
     "output_type": "stream",
     "text": [
      "0\n",
      "10\n",
      "    L:5\n",
      "        L:3\n",
      "    R:20\n",
      "        R:200\n",
      "            L:40\n",
      "                L:30\n",
      "            R:300\n",
      "max depth is: 4\n",
      "max depth is: 4\n"
     ]
    }
   ],
   "source": [
    "bin_tree = Node()\n",
    "print(bin_tree.max_depth())\n",
    "\n",
    "bin_tree.insert(10)\n",
    "bin_tree.insert(5)\n",
    "bin_tree.insert(3)\n",
    "bin_tree.insert(20)\n",
    "bin_tree.insert(200)\n",
    "bin_tree.insert(40)\n",
    "bin_tree.insert(300)\n",
    "bin_tree.insert(30)\n",
    "\n",
    "\n",
    "\n",
    "bin_tree.print_tree(bin_tree)\n",
    "print(f\"max depth is: {bin_tree.max_depth_(bin_tree)}\")\n",
    "print(f\"max depth is: {bin_tree.max_depth()}\")"
   ]
  },
  {
   "cell_type": "markdown",
   "id": "f28023fe",
   "metadata": {},
   "source": [
    "## Search for exact element value"
   ]
  },
  {
   "cell_type": "code",
   "execution_count": 18,
   "id": "fcc7c728",
   "metadata": {},
   "outputs": [],
   "source": [
    "class Node:\n",
    "    def __init__(self, data=None):\n",
    "        self.data = data\n",
    "        self.left = None\n",
    "        self.right = None\n",
    "        self.depth = None\n",
    "\n",
    "    \n",
    "    def insert(self, data):\n",
    "    \n",
    "        if self.data: # check if root exists\n",
    "            if data < self.data: # are new data smaller?\n",
    "                if self.left is None: # is left reference free?\n",
    "                    self.left = Node(data) # put data into free left reference\n",
    "                else:\n",
    "                    self.left.insert(data) # otherwise call the function again\n",
    "            elif data > self.data: # the same for right subtree\n",
    "                if self.right is None:\n",
    "                    self.right = Node(data)\n",
    "                else:\n",
    "                    self.right.insert(data)\n",
    "        else:\n",
    "            self.data = data # if root has no data, insert data into the root\n",
    "            \n",
    "    #we can use static method for recursion because we could not do it with \"self\" object.\n",
    "    #otherwise we should write: def print_tree(self, tree, level=0, prefix=\"\"):\n",
    "    #and use the tree object as a helper object.\n",
    "    def print_tree(self, level=0, prefix=\"\"):\n",
    "            if self.data is not None:  # check if node has data\n",
    "                # print a space proportional to the depth level of a tree\n",
    "                print(\" \" * (4 * level) + prefix + str(self.data))\n",
    "                if self.left:\n",
    "                    # call the function for left subtrees and increment the depth level.\n",
    "                    # prefix is \"L: \" which means left.\n",
    "                    self.left.print_tree(level + 1, \"L: \")\n",
    "                if self.right:\n",
    "                    # call the function for right subtrees and increment the depth level\n",
    "                    self.right.print_tree(level + 1, \"R: \")\n",
    "\n",
    "    \n",
    "    def in_order_traversal(self):\n",
    "        ordered_elements = []  # prepare empty list\n",
    "        if self.left:\n",
    "            ordered_elements += self.left.in_order_traversal()  # recursion for left subtrees\n",
    "        ordered_elements.append(self.data) # append the root\n",
    "        if self.right:  # recursion for right subtrees\n",
    "            ordered_elements += self.right.in_order_traversal()\n",
    "        return ordered_elements\n",
    "        return ordered_elements\n",
    "    \n",
    "    def max_depth(self, depth=0):\n",
    "        # Recursive call for the left subtree, incrementing the depth\n",
    "        if self.left:\n",
    "            left_depth = self.left.max_depth(depth + 1)\n",
    "        else:\n",
    "            left_depth = depth\n",
    "\n",
    "        # Recursive call for the right subtree, incrementing the depth\n",
    "        if self.right:\n",
    "            right_depth = self.right.max_depth(depth + 1)\n",
    "        else:\n",
    "            right_depth = depth\n",
    "\n",
    "        # Return the maximum of the depths of the left and right subtrees\n",
    "        return max(left_depth, right_depth)\n",
    "    \n",
    "\n",
    "    def contains(self, data):\n",
    "        # Base case: if the current node is None, return False\n",
    "        if self is None:\n",
    "            return False\n",
    "\n",
    "        # Check if the current node's data matches the target data\n",
    "        if self.data == data:\n",
    "            return True\n",
    "\n",
    "        # If the current node's data is greater than the target data,\n",
    "        # recursively search the left subtree\n",
    "        if self.data > data:\n",
    "            if self.left:\n",
    "                return self.left.contains(data)\n",
    "            else:\n",
    "                return False\n",
    "\n",
    "        # If the current node's data is less than the target data,\n",
    "        # recursively search the right subtree\n",
    "        return self.right.contains(data) if self.right else False\n"
   ]
  },
  {
   "cell_type": "code",
   "execution_count": 20,
   "id": "c068d401",
   "metadata": {},
   "outputs": [
    {
     "name": "stdout",
     "output_type": "stream",
     "text": [
      "10\n",
      "    L: 5\n",
      "        L: 3\n",
      "    R: 20\n",
      "        R: 200\n",
      "            L: 40\n",
      "                L: 30\n",
      "            R: 300\n",
      "False\n"
     ]
    }
   ],
   "source": [
    "bin_tree = Node()\n",
    "\n",
    "bin_tree.insert(10)\n",
    "bin_tree.insert(5)\n",
    "bin_tree.insert(3)\n",
    "bin_tree.insert(20)\n",
    "bin_tree.insert(200)\n",
    "bin_tree.insert(40)\n",
    "bin_tree.insert(300)\n",
    "bin_tree.insert(30)\n",
    "\n",
    "\n",
    "\n",
    "bin_tree.print_tree()\n",
    "\n",
    "print(bin_tree.contains(19))"
   ]
  },
  {
   "cell_type": "code",
   "execution_count": 56,
   "id": "ae0a4325",
   "metadata": {},
   "outputs": [
    {
     "name": "stdout",
     "output_type": "stream",
     "text": [
      "True\n"
     ]
    }
   ],
   "source": [
    "print(bin_tree.contains(bin_tree,5))"
   ]
  },
  {
   "cell_type": "code",
   "execution_count": null,
   "id": "b27d1ae3",
   "metadata": {},
   "outputs": [],
   "source": []
  }
 ],
 "metadata": {
  "kernelspec": {
   "display_name": "Python 3 (ipykernel)",
   "language": "python",
   "name": "python3"
  },
  "language_info": {
   "codemirror_mode": {
    "name": "ipython",
    "version": 3
   },
   "file_extension": ".py",
   "mimetype": "text/x-python",
   "name": "python",
   "nbconvert_exporter": "python",
   "pygments_lexer": "ipython3",
   "version": "3.11.0"
  }
 },
 "nbformat": 4,
 "nbformat_minor": 5
}
