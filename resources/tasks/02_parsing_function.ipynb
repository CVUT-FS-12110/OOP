{
 "cells": [
  {
   "cell_type": "markdown",
   "metadata": {},
   "source": [
    "# Task - Parsing function\n",
    "## Create unique usernames:\n",
    "\n",
    "Write a function which creates new key-values called usernames, which should be unique. Input data are stored in a dictionary\n"
   ]
  },
  {
   "cell_type": "markdown",
   "metadata": {},
   "source": [
    "## data example:"
   ]
  },
  {
   "cell_type": "code",
   "execution_count": null,
   "metadata": {},
   "outputs": [],
   "source": [
    "data = {\n",
    "    \"students\":[\"Adam Levine\", \"Monica Muller\", \"John Deere\", \"John Deere\"],\n",
    "    \"active\":[True, False, True, True]\n",
    "}"
   ]
  },
  {
   "cell_type": "markdown",
   "metadata": {},
   "source": [
    "You can find inspiration in KOS, where the login is composed of first 5 letters of surename and first 3 letters of first name. If the combinantion is not unique, the last letter is replaced by increasing number. If the student is not \"active\" then remove the student from data dictionary."
   ]
  },
  {
   "cell_type": "markdown",
   "metadata": {},
   "source": [
    "## result example:"
   ]
  },
  {
   "cell_type": "code",
   "execution_count": null,
   "metadata": {},
   "outputs": [],
   "source": [
    "{\n",
    "    \"students\":[\"Adam Levine\", \"John Deere\", \"John Deere\"],\n",
    "    \"active\":[True, True, True],\n",
    "    \"usernames\":[\"levinada\", \"deerejoh\", \"deerejo2\"]\n",
    "}"
   ]
  },
  {
   "cell_type": "markdown",
   "metadata": {},
   "source": [
    "### Code test:"
   ]
  },
  {
   "cell_type": "code",
   "execution_count": null,
   "metadata": {},
   "outputs": [],
   "source": [
    "def create_usernames(data):\n",
    "    # TODO: Implement this function\n",
    "    return transformed_data\n",
    "\n",
    "# testing\n",
    "data = data = {\n",
    "    \"students\":[\"Adam Levine\", \"Monica Muller\", \"John Deere\", \"John Deere\"],\n",
    "    \"active\":[True, False, True, True]\n",
    "}    \n",
    "\n",
    "assert create_usernames(data) == {\n",
    "    \"students\":[\"Adam Levine\", \"John Deere\", \"John Deere\"],\n",
    "    \"active\":[True, True, True],\n",
    "    \"usernames\":[\"levinada\", \"deerejoh\", \"deerejo2\"]\n",
    "}\n",
    "\n"
   ]
  },
  {
   "cell_type": "markdown",
   "metadata": {},
   "source": []
  }
 ],
 "metadata": {
  "kernelspec": {
   "display_name": "Python 3.8.10 64-bit (windows store)",
   "language": "python",
   "name": "python3"
  },
  "language_info": {
   "codemirror_mode": {
    "name": "ipython",
    "version": 3
   },
   "file_extension": ".py",
   "mimetype": "text/x-python",
   "name": "python",
   "nbconvert_exporter": "python",
   "pygments_lexer": "ipython3",
   "version": "3.8.10"
  },
  "vscode": {
   "interpreter": {
    "hash": "7c55eeb7f840fce544881ebebb31edebac3603c95a83ad07a8c739587d41ab49"
   }
  }
 },
 "nbformat": 4,
 "nbformat_minor": 2
}
