{
 "cells": [
  {
   "cell_type": "markdown",
   "metadata": {},
   "source": [
    "# Task -  Inserting into AVL tree - your implementation\n",
    "\n",
    "Write a class Node, which will be implemented as a binary tree. Inserting into binary tree will behave according to AVL tree rules. If the tree is not balanced, do proper rotations. Do not import any packages. \n",
    "Hint: https://youtu.be/vRwi_UcZGjU\n"
   ]
  },
  {
   "cell_type": "markdown",
   "metadata": {},
   "source": [
    "## class structure:"
   ]
  },
  {
   "cell_type": "code",
   "execution_count": 2,
   "metadata": {},
   "outputs": [],
   "source": [
    "class Node:\n",
    "    def __init__():\n",
    "        pass\n",
    "    \n",
    "    def insert():\n",
    "        pass\n",
    "             \n",
    "    @staticmethod \n",
    "    def print_tree(tree):\n",
    "        pass\n",
    "    \n",
    "    @staticmethod \n",
    "    def in_order_traversal(tree):\n",
    "        pass\n",
    "    \n",
    "    @staticmethod \n",
    "    def max_depth(tree):\n",
    "        pass\n",
    "    \n",
    "    @staticmethod \n",
    "    def contains(tree, data):\n",
    "        pass"
   ]
  },
  {
   "cell_type": "markdown",
   "metadata": {},
   "source": [
    "## Testing"
   ]
  },
  {
   "cell_type": "code",
   "execution_count": null,
   "metadata": {},
   "outputs": [],
   "source": [
    "tree = Node()\n",
    "\n",
    "tree.insert(1)\n",
    "tree.insert(2)\n",
    "tree.insert(3)\n",
    "tree.insert(4)\n",
    "tree.insert(5)\n",
    "tree.insert(6)\n",
    "tree.insert(7)\n",
    "\n",
    "assert tree.in_order_traversal(tree) == [1, 2, 3, 4, 5, 6, 7]\n",
    "assert tree.contains(tree, 3)\n",
    "assert not tree.contains(tree, 20)\n",
    "assert tree.max_depth(tree) <= 2\n",
    "\n",
    "\n",
    "tree = Node()\n",
    "\n",
    "tree.insert(2)\n",
    "tree.insert(10)\n",
    "tree.insert(3)\n",
    "tree.insert(5)\n",
    "tree.insert(100)\n",
    "\n",
    "assert tree.max_depth(tree) <= 2\n",
    "\n",
    "\n"
   ]
  }
 ],
 "metadata": {
  "kernelspec": {
   "display_name": "Python 3 (ipykernel)",
   "language": "python",
   "name": "python3"
  },
  "language_info": {
   "codemirror_mode": {
    "name": "ipython",
    "version": 3
   },
   "file_extension": ".py",
   "mimetype": "text/x-python",
   "name": "python",
   "nbconvert_exporter": "python",
   "pygments_lexer": "ipython3",
   "version": "3.7.6"
  },
  "vscode": {
   "interpreter": {
    "hash": "7c55eeb7f840fce544881ebebb31edebac3603c95a83ad07a8c739587d41ab49"
   }
  }
 },
 "nbformat": 4,
 "nbformat_minor": 2
}
