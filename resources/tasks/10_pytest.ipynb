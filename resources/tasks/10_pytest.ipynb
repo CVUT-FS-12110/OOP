{
 "cells": [
  {
   "cell_type": "markdown",
   "metadata": {},
   "source": [
    "# Task - Testing\n",
    "## Test Unique usernames task:\n",
    "\n",
    "Write multiple tests using pytest on Unique usernames task\n",
    "\n",
    "<ol>\n",
    "    <li>Test basic functionality of your function</li>\n",
    "    <li>Test on exceptions e.g.: exceed number of combinations, short names etc..</li>\n",
    "    <li>Test on expected error</li>\n",
    "</ol>\n",
    "\n"
   ]
  }
 ],
 "metadata": {
  "kernelspec": {
   "display_name": "Python 3 (ipykernel)",
   "language": "python",
   "name": "python3"
  },
  "language_info": {
   "codemirror_mode": {
    "name": "ipython",
    "version": 3
   },
   "file_extension": ".py",
   "mimetype": "text/x-python",
   "name": "python",
   "nbconvert_exporter": "python",
   "pygments_lexer": "ipython3",
   "version": "3.8.10"
  },
  "vscode": {
   "interpreter": {
    "hash": "7c55eeb7f840fce544881ebebb31edebac3603c95a83ad07a8c739587d41ab49"
   }
  }
 },
 "nbformat": 4,
 "nbformat_minor": 2
}
