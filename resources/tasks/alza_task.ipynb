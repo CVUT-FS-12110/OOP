{
 "cells": [
  {
   "cell_type": "markdown",
   "metadata": {},
   "source": [
    "# Task - Product price tracking with e-mail notification\n",
    "\n",
    "Use the script from the lab [alza.py](../labs/alza.py) and refactor it to a class called *PriceTracker*.\n",
    "The class should be extended with periodic price tracking with predefined period.\n",
    "\n",
    "1) The class should have a method to get the price from given url and given class name of the web page element.\n",
    "2) The class shoud have a method for sending an e-mail with given credentials, given reciever and given smtp settings\n",
    "3) The class should have a method for periodic check of a price with e-mail notification and adjustable period. \n",
    "4) Be creative and make it as clean as possible with error handling\n"
   ]
  },
  {
   "cell_type": "markdown",
   "metadata": {},
   "source": []
  }
 ],
 "metadata": {
  "kernelspec": {
   "display_name": "Python 3.8.10 64-bit (windows store)",
   "language": "python",
   "name": "python3"
  },
  "language_info": {
   "codemirror_mode": {
    "name": "ipython",
    "version": 3
   },
   "file_extension": ".py",
   "mimetype": "text/x-python",
   "name": "python",
   "nbconvert_exporter": "python",
   "pygments_lexer": "ipython3",
   "version": "3.8.10"
  },
  "vscode": {
   "interpreter": {
    "hash": "7c55eeb7f840fce544881ebebb31edebac3603c95a83ad07a8c739587d41ab49"
   }
  }
 },
 "nbformat": 4,
 "nbformat_minor": 2
}
