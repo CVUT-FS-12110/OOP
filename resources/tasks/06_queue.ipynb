{
 "cells": [
  {
   "cell_type": "markdown",
   "metadata": {},
   "source": [
    "# Task - your implementation of a queue\n",
    "\n",
    "Write a class Queue, which will be implemented as a doubly linked list. Do not import any packages. Expected behaviour is the same as the behaviour of a Queue shown in the lab notebook.\n",
    "\n",
    "![image](img/oop_06.png)\n"
   ]
  },
  {
   "cell_type": "markdown",
   "metadata": {},
   "source": [
    "## class structure:"
   ]
  },
  {
   "cell_type": "code",
   "execution_count": 2,
   "metadata": {},
   "outputs": [],
   "source": [
    "class Queue:\n",
    "    def __init__(self, maxsize=10):\n",
    "        self.head = None\n",
    "        self.tail = None\n",
    "        self.maxsize = maxsize\n",
    "    \n",
    "    def put(self, data):\n",
    "        # put data in a queue\n",
    "        pass\n",
    "    \n",
    "    def get(self):\n",
    "        # get data from a queue\n",
    "        pass\n",
    "\n",
    "    def empty(self):\n",
    "        # is queue empty?\n",
    "        pass\n",
    "   \n",
    "    def full(self):\n",
    "        # is queue full?\n",
    "        pass\n",
    "    \n",
    "    def size(self):\n",
    "        # what is the size of a queue?\n",
    "        pass\n",
    "\n",
    "class Node:\n",
    "    def __init__(self, data=None):\n",
    "        self.data = data\n",
    "        self.next = None\n",
    "        self.previous = None    "
   ]
  },
  {
   "cell_type": "code",
   "execution_count": null,
   "metadata": {},
   "outputs": [],
   "source": []
  }
 ],
 "metadata": {
  "kernelspec": {
   "display_name": "Python 3 (ipykernel)",
   "language": "python",
   "name": "python3"
  },
  "language_info": {
   "codemirror_mode": {
    "name": "ipython",
    "version": 3
   },
   "file_extension": ".py",
   "mimetype": "text/x-python",
   "name": "python",
   "nbconvert_exporter": "python",
   "pygments_lexer": "ipython3",
   "version": "3.7.6"
  },
  "vscode": {
   "interpreter": {
    "hash": "7c55eeb7f840fce544881ebebb31edebac3603c95a83ad07a8c739587d41ab49"
   }
  }
 },
 "nbformat": 4,
 "nbformat_minor": 2
}
