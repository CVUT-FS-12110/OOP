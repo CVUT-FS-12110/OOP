{
 "cells": [
  {
   "cell_type": "markdown",
   "metadata": {},
   "source": [
    "# Task - measure speed of sorting algorithms\n",
    "\n",
    "Write a function for execution-time measurement of sorting algorithms.\n",
    "<ol>\n",
    "    <li>Compare your implementation of selectionsort, bubblesort and mergesort algortihm with python sorted() function</li>\n",
    "    <li>Make at least 100 tests in each category for each algorithm</li>\n",
    "    <li>Categories are divided according to number of elements in the list. Categories: n = 100, n = 1000, n = 10 000, n = 100 000. You can shift the categories proportionally to your computer performance</li>\n",
    "    <li>Evalute average time and standard deviation for each algorithm in each category.</li>\n",
    "\n",
    "\n",
    "\n",
    "</ol>\n",
    "\n",
    "\n"
   ]
  },
  {
   "cell_type": "code",
   "execution_count": null,
   "metadata": {},
   "outputs": [],
   "source": []
  }
 ],
 "metadata": {
  "kernelspec": {
   "display_name": "Python 3 (ipykernel)",
   "language": "python",
   "name": "python3"
  },
  "language_info": {
   "codemirror_mode": {
    "name": "ipython",
    "version": 3
   },
   "file_extension": ".py",
   "mimetype": "text/x-python",
   "name": "python",
   "nbconvert_exporter": "python",
   "pygments_lexer": "ipython3",
   "version": "3.8.10"
  },
  "vscode": {
   "interpreter": {
    "hash": "7c55eeb7f840fce544881ebebb31edebac3603c95a83ad07a8c739587d41ab49"
   }
  }
 },
 "nbformat": 4,
 "nbformat_minor": 2
}
